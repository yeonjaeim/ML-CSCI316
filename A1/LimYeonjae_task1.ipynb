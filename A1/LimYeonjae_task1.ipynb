{
  "cells": [
    {
      "cell_type": "markdown",
      "metadata": {
        "id": "8DQa-smFmwNI"
      },
      "source": [
        "# CSCI316 Individual Assignment 1 - Task 1\n",
        "This code include:\n",
        "1. Create one Pandas data frame for this data set.\n",
        "2. Identify the missing values. Propose a method to clean the missing values. The following steps are performed on the cleaned data.\n",
        "3. Perform z-score normalization of the values in the attribute “Na_to_K”. Show the mean and variance of the normalized values.\n",
        "4. Create four bins for the attribute “Na_to_K” such that the bins contain (approximately) equivalent numbers of records (samples).\n",
        "5. Apply one-hot-encoding to the attribute “Cholesterol”.\n",
        "6. Define at least one new attribute based on existing attribute, and explain your reason behind your definition.\n"
      ]
    },
    {
      "cell_type": "markdown",
      "metadata": {
        "id": "Xp8HVTKiJtAR"
      },
      "source": [
        "### Attributes:\n",
        "* Age (Age of the Patient),\n",
        "* Sex (Gender of the patients),\n",
        "* BP (Blood Pressure Levels),\n",
        "* Cholesterol (Cholesterol levels),\n",
        "* Na_to_K (Sodium to potassium Ration in Blood),\n",
        "* Drug (Drug Type)\n",
        "\n",
        "!! Must use Pandas in Python to clean and pre-process this dataset. (cannot use any ML library)\n",
        "\n"
      ]
    },
    {
      "cell_type": "markdown",
      "metadata": {
        "id": "Ey-9e9FGKG-b"
      },
      "source": [
        "# 1. Create one Pandas data frame for this data set."
      ]
    },
    {
      "cell_type": "code",
      "execution_count": 1,
      "metadata": {
        "id": "AcZJEKDDKgs-"
      },
      "outputs": [],
      "source": [
        "import pandas as pd\n",
        "import numpy as np"
      ]
    },
    {
      "cell_type": "code",
      "execution_count": 4,
      "metadata": {
        "id": "MjcQ01B8K0Gg"
      },
      "outputs": [],
      "source": [
        "df = pd.read_csv(\"drugData.csv\")"
      ]
    },
    {
      "cell_type": "code",
      "execution_count": 5,
      "metadata": {
        "colab": {
          "base_uri": "https://localhost:8080/",
          "height": 204
        },
        "id": "BW20nBhZK-jP",
        "outputId": "6c5bf624-2f42-4665-9259-edfa708dda97"
      },
      "outputs": [
        {
          "data": {
            "text/html": [
              "\n",
              "  <div id=\"df-ebc93bdc-7cfa-4e03-bdd5-877278460c89\" class=\"colab-df-container\">\n",
              "    <div>\n",
              "<style scoped>\n",
              "    .dataframe tbody tr th:only-of-type {\n",
              "        vertical-align: middle;\n",
              "    }\n",
              "\n",
              "    .dataframe tbody tr th {\n",
              "        vertical-align: top;\n",
              "    }\n",
              "\n",
              "    .dataframe thead th {\n",
              "        text-align: right;\n",
              "    }\n",
              "</style>\n",
              "<table border=\"1\" class=\"dataframe\">\n",
              "  <thead>\n",
              "    <tr style=\"text-align: right;\">\n",
              "      <th></th>\n",
              "      <th>Age</th>\n",
              "      <th>Sex</th>\n",
              "      <th>BP</th>\n",
              "      <th>Cholesterol</th>\n",
              "      <th>Na_to_K</th>\n",
              "      <th>Drug</th>\n",
              "    </tr>\n",
              "  </thead>\n",
              "  <tbody>\n",
              "    <tr>\n",
              "      <th>0</th>\n",
              "      <td>23</td>\n",
              "      <td>F</td>\n",
              "      <td>HIGH</td>\n",
              "      <td>HIGH</td>\n",
              "      <td>25.355</td>\n",
              "      <td>DrugY</td>\n",
              "    </tr>\n",
              "    <tr>\n",
              "      <th>1</th>\n",
              "      <td>47</td>\n",
              "      <td>M</td>\n",
              "      <td>LOW</td>\n",
              "      <td>HIGH</td>\n",
              "      <td>13.093</td>\n",
              "      <td>drugC</td>\n",
              "    </tr>\n",
              "    <tr>\n",
              "      <th>2</th>\n",
              "      <td>47</td>\n",
              "      <td>M</td>\n",
              "      <td>LOW</td>\n",
              "      <td>HIGH</td>\n",
              "      <td>10.114</td>\n",
              "      <td>drugC</td>\n",
              "    </tr>\n",
              "    <tr>\n",
              "      <th>3</th>\n",
              "      <td>28</td>\n",
              "      <td>F</td>\n",
              "      <td>NORMAL</td>\n",
              "      <td>HIGH</td>\n",
              "      <td>7.798</td>\n",
              "      <td>drugX</td>\n",
              "    </tr>\n",
              "    <tr>\n",
              "      <th>4</th>\n",
              "      <td>61</td>\n",
              "      <td>F</td>\n",
              "      <td>LOW</td>\n",
              "      <td>HIGH</td>\n",
              "      <td>18.043</td>\n",
              "      <td>DrugY</td>\n",
              "    </tr>\n",
              "  </tbody>\n",
              "</table>\n",
              "</div>\n",
              "    <div class=\"colab-df-buttons\">\n",
              "\n",
              "  <div class=\"colab-df-container\">\n",
              "    <button class=\"colab-df-convert\" onclick=\"convertToInteractive('df-ebc93bdc-7cfa-4e03-bdd5-877278460c89')\"\n",
              "            title=\"Convert this dataframe to an interactive table.\"\n",
              "            style=\"display:none;\">\n",
              "\n",
              "  <svg xmlns=\"http://www.w3.org/2000/svg\" height=\"24px\" viewBox=\"0 -960 960 960\">\n",
              "    <path d=\"M120-120v-720h720v720H120Zm60-500h600v-160H180v160Zm220 220h160v-160H400v160Zm0 220h160v-160H400v160ZM180-400h160v-160H180v160Zm440 0h160v-160H620v160ZM180-180h160v-160H180v160Zm440 0h160v-160H620v160Z\"/>\n",
              "  </svg>\n",
              "    </button>\n",
              "\n",
              "  <style>\n",
              "    .colab-df-container {\n",
              "      display:flex;\n",
              "      gap: 12px;\n",
              "    }\n",
              "\n",
              "    .colab-df-convert {\n",
              "      background-color: #E8F0FE;\n",
              "      border: none;\n",
              "      border-radius: 50%;\n",
              "      cursor: pointer;\n",
              "      display: none;\n",
              "      fill: #1967D2;\n",
              "      height: 32px;\n",
              "      padding: 0 0 0 0;\n",
              "      width: 32px;\n",
              "    }\n",
              "\n",
              "    .colab-df-convert:hover {\n",
              "      background-color: #E2EBFA;\n",
              "      box-shadow: 0px 1px 2px rgba(60, 64, 67, 0.3), 0px 1px 3px 1px rgba(60, 64, 67, 0.15);\n",
              "      fill: #174EA6;\n",
              "    }\n",
              "\n",
              "    .colab-df-buttons div {\n",
              "      margin-bottom: 4px;\n",
              "    }\n",
              "\n",
              "    [theme=dark] .colab-df-convert {\n",
              "      background-color: #3B4455;\n",
              "      fill: #D2E3FC;\n",
              "    }\n",
              "\n",
              "    [theme=dark] .colab-df-convert:hover {\n",
              "      background-color: #434B5C;\n",
              "      box-shadow: 0px 1px 3px 1px rgba(0, 0, 0, 0.15);\n",
              "      filter: drop-shadow(0px 1px 2px rgba(0, 0, 0, 0.3));\n",
              "      fill: #FFFFFF;\n",
              "    }\n",
              "  </style>\n",
              "\n",
              "    <script>\n",
              "      const buttonEl =\n",
              "        document.querySelector('#df-ebc93bdc-7cfa-4e03-bdd5-877278460c89 button.colab-df-convert');\n",
              "      buttonEl.style.display =\n",
              "        google.colab.kernel.accessAllowed ? 'block' : 'none';\n",
              "\n",
              "      async function convertToInteractive(key) {\n",
              "        const element = document.querySelector('#df-ebc93bdc-7cfa-4e03-bdd5-877278460c89');\n",
              "        const dataTable =\n",
              "          await google.colab.kernel.invokeFunction('convertToInteractive',\n",
              "                                                    [key], {});\n",
              "        if (!dataTable) return;\n",
              "\n",
              "        const docLinkHtml = 'Like what you see? Visit the ' +\n",
              "          '<a target=\"_blank\" href=https://colab.research.google.com/notebooks/data_table.ipynb>data table notebook</a>'\n",
              "          + ' to learn more about interactive tables.';\n",
              "        element.innerHTML = '';\n",
              "        dataTable['output_type'] = 'display_data';\n",
              "        await google.colab.output.renderOutput(dataTable, element);\n",
              "        const docLink = document.createElement('div');\n",
              "        docLink.innerHTML = docLinkHtml;\n",
              "        element.appendChild(docLink);\n",
              "      }\n",
              "    </script>\n",
              "  </div>\n",
              "\n",
              "\n",
              "<div id=\"df-22ecc0a7-179c-4e5a-be46-81a77f7bc7d6\">\n",
              "  <button class=\"colab-df-quickchart\" onclick=\"quickchart('df-22ecc0a7-179c-4e5a-be46-81a77f7bc7d6')\"\n",
              "            title=\"Suggest charts\"\n",
              "            style=\"display:none;\">\n",
              "\n",
              "<svg xmlns=\"http://www.w3.org/2000/svg\" height=\"24px\"viewBox=\"0 0 24 24\"\n",
              "     width=\"24px\">\n",
              "    <g>\n",
              "        <path d=\"M19 3H5c-1.1 0-2 .9-2 2v14c0 1.1.9 2 2 2h14c1.1 0 2-.9 2-2V5c0-1.1-.9-2-2-2zM9 17H7v-7h2v7zm4 0h-2V7h2v10zm4 0h-2v-4h2v4z\"/>\n",
              "    </g>\n",
              "</svg>\n",
              "  </button>\n",
              "\n",
              "<style>\n",
              "  .colab-df-quickchart {\n",
              "      --bg-color: #E8F0FE;\n",
              "      --fill-color: #1967D2;\n",
              "      --hover-bg-color: #E2EBFA;\n",
              "      --hover-fill-color: #174EA6;\n",
              "      --disabled-fill-color: #AAA;\n",
              "      --disabled-bg-color: #DDD;\n",
              "  }\n",
              "\n",
              "  [theme=dark] .colab-df-quickchart {\n",
              "      --bg-color: #3B4455;\n",
              "      --fill-color: #D2E3FC;\n",
              "      --hover-bg-color: #434B5C;\n",
              "      --hover-fill-color: #FFFFFF;\n",
              "      --disabled-bg-color: #3B4455;\n",
              "      --disabled-fill-color: #666;\n",
              "  }\n",
              "\n",
              "  .colab-df-quickchart {\n",
              "    background-color: var(--bg-color);\n",
              "    border: none;\n",
              "    border-radius: 50%;\n",
              "    cursor: pointer;\n",
              "    display: none;\n",
              "    fill: var(--fill-color);\n",
              "    height: 32px;\n",
              "    padding: 0;\n",
              "    width: 32px;\n",
              "  }\n",
              "\n",
              "  .colab-df-quickchart:hover {\n",
              "    background-color: var(--hover-bg-color);\n",
              "    box-shadow: 0 1px 2px rgba(60, 64, 67, 0.3), 0 1px 3px 1px rgba(60, 64, 67, 0.15);\n",
              "    fill: var(--button-hover-fill-color);\n",
              "  }\n",
              "\n",
              "  .colab-df-quickchart-complete:disabled,\n",
              "  .colab-df-quickchart-complete:disabled:hover {\n",
              "    background-color: var(--disabled-bg-color);\n",
              "    fill: var(--disabled-fill-color);\n",
              "    box-shadow: none;\n",
              "  }\n",
              "\n",
              "  .colab-df-spinner {\n",
              "    border: 2px solid var(--fill-color);\n",
              "    border-color: transparent;\n",
              "    border-bottom-color: var(--fill-color);\n",
              "    animation:\n",
              "      spin 1s steps(1) infinite;\n",
              "  }\n",
              "\n",
              "  @keyframes spin {\n",
              "    0% {\n",
              "      border-color: transparent;\n",
              "      border-bottom-color: var(--fill-color);\n",
              "      border-left-color: var(--fill-color);\n",
              "    }\n",
              "    20% {\n",
              "      border-color: transparent;\n",
              "      border-left-color: var(--fill-color);\n",
              "      border-top-color: var(--fill-color);\n",
              "    }\n",
              "    30% {\n",
              "      border-color: transparent;\n",
              "      border-left-color: var(--fill-color);\n",
              "      border-top-color: var(--fill-color);\n",
              "      border-right-color: var(--fill-color);\n",
              "    }\n",
              "    40% {\n",
              "      border-color: transparent;\n",
              "      border-right-color: var(--fill-color);\n",
              "      border-top-color: var(--fill-color);\n",
              "    }\n",
              "    60% {\n",
              "      border-color: transparent;\n",
              "      border-right-color: var(--fill-color);\n",
              "    }\n",
              "    80% {\n",
              "      border-color: transparent;\n",
              "      border-right-color: var(--fill-color);\n",
              "      border-bottom-color: var(--fill-color);\n",
              "    }\n",
              "    90% {\n",
              "      border-color: transparent;\n",
              "      border-bottom-color: var(--fill-color);\n",
              "    }\n",
              "  }\n",
              "</style>\n",
              "\n",
              "  <script>\n",
              "    async function quickchart(key) {\n",
              "      const quickchartButtonEl =\n",
              "        document.querySelector('#' + key + ' button');\n",
              "      quickchartButtonEl.disabled = true;  // To prevent multiple clicks.\n",
              "      quickchartButtonEl.classList.add('colab-df-spinner');\n",
              "      try {\n",
              "        const charts = await google.colab.kernel.invokeFunction(\n",
              "            'suggestCharts', [key], {});\n",
              "      } catch (error) {\n",
              "        console.error('Error during call to suggestCharts:', error);\n",
              "      }\n",
              "      quickchartButtonEl.classList.remove('colab-df-spinner');\n",
              "      quickchartButtonEl.classList.add('colab-df-quickchart-complete');\n",
              "    }\n",
              "    (() => {\n",
              "      let quickchartButtonEl =\n",
              "        document.querySelector('#df-22ecc0a7-179c-4e5a-be46-81a77f7bc7d6 button');\n",
              "      quickchartButtonEl.style.display =\n",
              "        google.colab.kernel.accessAllowed ? 'block' : 'none';\n",
              "    })();\n",
              "  </script>\n",
              "</div>\n",
              "\n",
              "    </div>\n",
              "  </div>\n"
            ],
            "text/plain": [
              "   Age Sex      BP Cholesterol  Na_to_K   Drug\n",
              "0   23   F    HIGH        HIGH   25.355  DrugY\n",
              "1   47   M     LOW        HIGH   13.093  drugC\n",
              "2   47   M     LOW        HIGH   10.114  drugC\n",
              "3   28   F  NORMAL        HIGH    7.798  drugX\n",
              "4   61   F     LOW        HIGH   18.043  DrugY"
            ]
          },
          "execution_count": 5,
          "metadata": {},
          "output_type": "execute_result"
        }
      ],
      "source": [
        "df.head()"
      ]
    },
    {
      "cell_type": "code",
      "execution_count": 30,
      "metadata": {
        "colab": {
          "base_uri": "https://localhost:8080/"
        },
        "id": "KNNEvel0Lt8F",
        "outputId": "bef6e357-fe65-4ee3-d06e-c7faa102898f"
      },
      "outputs": [
        {
          "name": "stdout",
          "output_type": "stream",
          "text": [
            "<class 'pandas.core.frame.DataFrame'>\n",
            "RangeIndex: 200 entries, 0 to 199\n",
            "Data columns (total 6 columns):\n",
            " #   Column       Non-Null Count  Dtype  \n",
            "---  ------       --------------  -----  \n",
            " 0   Age          200 non-null    int64  \n",
            " 1   Sex          200 non-null    object \n",
            " 2   BP           197 non-null    object \n",
            " 3   Cholesterol  200 non-null    object \n",
            " 4   Na_to_K      200 non-null    float64\n",
            " 5   Drug         200 non-null    object \n",
            "dtypes: float64(1), int64(1), object(4)\n",
            "memory usage: 9.5+ KB\n"
          ]
        }
      ],
      "source": [
        "df.info()"
      ]
    },
    {
      "cell_type": "code",
      "execution_count": 31,
      "metadata": {
        "colab": {
          "base_uri": "https://localhost:8080/"
        },
        "id": "FLHw8dg7RDw5",
        "outputId": "6ba369ea-9dcd-49c6-9c75-ced822848c04"
      },
      "outputs": [
        {
          "data": {
            "text/plain": [
              "(200, 6)"
            ]
          },
          "execution_count": 31,
          "metadata": {},
          "output_type": "execute_result"
        }
      ],
      "source": [
        "df.shape"
      ]
    },
    {
      "cell_type": "code",
      "execution_count": 32,
      "metadata": {
        "colab": {
          "base_uri": "https://localhost:8080/"
        },
        "id": "ThgU48N7L1jj",
        "outputId": "dbaf14f1-0673-45eb-afde-60fffd119336"
      },
      "outputs": [
        {
          "data": {
            "text/plain": [
              "Age            0\n",
              "Sex            0\n",
              "BP             3\n",
              "Cholesterol    0\n",
              "Na_to_K        0\n",
              "Drug           0\n",
              "dtype: int64"
            ]
          },
          "execution_count": 32,
          "metadata": {},
          "output_type": "execute_result"
        }
      ],
      "source": [
        "df.isnull().sum()"
      ]
    },
    {
      "cell_type": "code",
      "execution_count": 33,
      "metadata": {
        "colab": {
          "base_uri": "https://localhost:8080/"
        },
        "id": "HJ0cwCnkSUIZ",
        "outputId": "9a21c975-5568-4cf6-acd0-05d59faf1c37"
      },
      "outputs": [
        {
          "name": "stdout",
          "output_type": "stream",
          "text": [
            "[23 47 28 61 22 49 41 60 43 34 74 50 16 69 32 57 63 48 33 31 39 45 18 65\n",
            " 53 46 15 73 58 66 37 68 67 62 24 26 40 38 29 17 54 70 36 19 64 59 51 42\n",
            " 56 20 72 35 52 55 30 21 25]\n"
          ]
        }
      ],
      "source": [
        "unique_values_age = df['Age'].unique()\n",
        "\n",
        "print(unique_values_age)"
      ]
    },
    {
      "cell_type": "code",
      "execution_count": 34,
      "metadata": {
        "colab": {
          "base_uri": "https://localhost:8080/"
        },
        "id": "Oi-9LDRwSVJM",
        "outputId": "e30303ac-db48-439f-9316-4ea0071a53a6"
      },
      "outputs": [
        {
          "name": "stdout",
          "output_type": "stream",
          "text": [
            "['F' 'M']\n"
          ]
        }
      ],
      "source": [
        "unique_values_sex = df['Sex'].unique()\n",
        "\n",
        "print(unique_values_sex)"
      ]
    },
    {
      "cell_type": "code",
      "execution_count": 35,
      "metadata": {
        "colab": {
          "base_uri": "https://localhost:8080/"
        },
        "id": "aZb-JIJrMR1-",
        "outputId": "a5028e12-b8f6-412c-aacb-dacf938a1f42"
      },
      "outputs": [
        {
          "name": "stdout",
          "output_type": "stream",
          "text": [
            "['HIGH' 'LOW' 'NORMAL' nan]\n"
          ]
        }
      ],
      "source": [
        "unique_values_bp = df['BP'].unique()\n",
        "\n",
        "print(unique_values_bp)"
      ]
    },
    {
      "cell_type": "code",
      "execution_count": 36,
      "metadata": {
        "colab": {
          "base_uri": "https://localhost:8080/"
        },
        "id": "uNHK4uBMSO5M",
        "outputId": "138f4be5-ebd8-4c9a-dd42-fda364782fbf"
      },
      "outputs": [
        {
          "name": "stdout",
          "output_type": "stream",
          "text": [
            "[23 47 28 61 22 49 41 60 43 34 74 50 16 69 32 57 63 48 33 31 39 45 18 65\n",
            " 53 46 15 73 58 66 37 68 67 62 24 26 40 38 29 17 54 70 36 19 64 59 51 42\n",
            " 56 20 72 35 52 55 30 21 25]\n"
          ]
        }
      ],
      "source": [
        "unique_values_age = df['Age'].unique()\n",
        "\n",
        "print(unique_values_age)"
      ]
    },
    {
      "cell_type": "code",
      "execution_count": 37,
      "metadata": {
        "colab": {
          "base_uri": "https://localhost:8080/"
        },
        "id": "tnRIeo5BSO1W",
        "outputId": "a3298b04-3edf-47a1-db6c-5d4c5db45b88"
      },
      "outputs": [
        {
          "name": "stdout",
          "output_type": "stream",
          "text": [
            "['HIGH' 'NORMAL']\n"
          ]
        }
      ],
      "source": [
        "unique_values_cholesterol = df['Cholesterol'].unique()\n",
        "\n",
        "print(unique_values_cholesterol)"
      ]
    },
    {
      "cell_type": "code",
      "execution_count": 38,
      "metadata": {
        "colab": {
          "base_uri": "https://localhost:8080/"
        },
        "id": "a9MHCy9nSOum",
        "outputId": "4cb20b38-02e8-48c7-8654-2c09bd2bca14"
      },
      "outputs": [
        {
          "name": "stdout",
          "output_type": "stream",
          "text": [
            "[25.355 13.093 10.114  7.798 18.043  8.607 16.275 11.037 15.171 19.368\n",
            " 11.767 19.199 15.376 20.942 12.703 15.516 11.455 13.972  7.298 25.974\n",
            " 19.128 25.917 30.568 15.036 33.486 18.809 30.366  9.381 22.697 17.951\n",
            "  8.75   9.567 11.014 31.876 14.133  7.285  9.445 13.938  9.709  9.084\n",
            " 19.221 14.239 15.79  12.26  12.295  8.107 13.091 10.291 31.686 19.796\n",
            " 19.416 10.898 27.183 18.457 10.189 14.16  11.34  27.826 10.091 18.703\n",
            " 29.875  9.475 20.693  8.37  13.303 27.05  12.856 10.832 24.658 24.276\n",
            " 13.967 19.675 10.605 22.905 17.069 20.909 11.198 19.161 13.313 10.84\n",
            " 13.934  7.761  9.712 11.326 10.067 13.935 13.597 15.478 23.091 17.211\n",
            " 16.594 15.156 29.45  29.271 15.015 11.424 38.247 25.395 35.639 16.725\n",
            " 11.871 12.854 13.127  8.966 28.294  8.968 11.953 20.013  9.677 16.85\n",
            "  7.49   6.683  9.17  13.769  9.281 18.295  9.514 10.103 10.292 25.475\n",
            " 27.064 17.206 22.456 16.753 12.495 25.969 16.347  7.845 33.542  7.477\n",
            " 20.489 32.922 13.598 25.786 21.036 11.939 10.977 12.894 11.343 10.065\n",
            "  6.269 25.741  8.621 15.436  9.664  9.443 12.006 12.307  7.34   8.151\n",
            "  8.7   11.009  7.261 14.642 16.724 10.537 11.227 22.963 10.444 12.923\n",
            " 10.443  9.945 12.859 28.632 19.007 26.645 14.216 23.003 11.262 12.879\n",
            " 10.017 17.225 18.739 12.766 18.348 10.446 19.011 15.969 15.891 22.818\n",
            " 13.884 11.686 15.49  37.188 25.893  9.849 10.403 34.997 20.932 18.991\n",
            "  8.011 16.31   6.769 34.686 11.567  9.894 14.02  11.349]\n"
          ]
        }
      ],
      "source": [
        "unique_values_Na_to_K = df['Na_to_K'].unique()\n",
        "\n",
        "print(unique_values_Na_to_K)"
      ]
    },
    {
      "cell_type": "code",
      "execution_count": 39,
      "metadata": {
        "colab": {
          "base_uri": "https://localhost:8080/"
        },
        "id": "QECeAvIGSgw_",
        "outputId": "a19b35f5-09d9-4b28-d151-f807535e42ef"
      },
      "outputs": [
        {
          "name": "stdout",
          "output_type": "stream",
          "text": [
            "['DrugY' 'drugC' 'drugX' 'drugA' 'drugB']\n"
          ]
        }
      ],
      "source": [
        "unique_values_drug = df['Drug'].unique()\n",
        "\n",
        "print(unique_values_drug)"
      ]
    },
    {
      "cell_type": "markdown",
      "metadata": {
        "id": "YQE-A6K5Srwo"
      },
      "source": [
        "There is no outliers in any columns.\n",
        "Only BP has NaN value."
      ]
    },
    {
      "cell_type": "code",
      "execution_count": 40,
      "metadata": {
        "colab": {
          "base_uri": "https://localhost:8080/"
        },
        "id": "XMQnSHvNMYKr",
        "outputId": "6d95333a-dc41-446d-a774-b4795279330c"
      },
      "outputs": [
        {
          "name": "stdout",
          "output_type": "stream",
          "text": [
            "HIGH      77\n",
            "LOW       64\n",
            "NORMAL    56\n",
            "Name: BP, dtype: int64\n"
          ]
        }
      ],
      "source": [
        "value_counts_bp = df['BP'].value_counts()\n",
        "\n",
        "print(value_counts_bp)"
      ]
    },
    {
      "cell_type": "markdown",
      "metadata": {
        "id": "fGvqU3msKb74"
      },
      "source": [
        "## (2) – (5), append the new columns to the existing Pandas dataframe."
      ]
    },
    {
      "cell_type": "markdown",
      "metadata": {
        "id": "39FKFCz1KG8n"
      },
      "source": [
        "# 2. Identify the missing values. Propose a method to clean the missing values."
      ]
    },
    {
      "cell_type": "code",
      "execution_count": 6,
      "metadata": {
        "id": "phlyKG4qLDVv"
      },
      "outputs": [],
      "source": [
        "df.dropna(subset=['BP'], inplace=True)"
      ]
    },
    {
      "cell_type": "code",
      "execution_count": 7,
      "metadata": {
        "colab": {
          "base_uri": "https://localhost:8080/"
        },
        "id": "K9YXt9bJR4gQ",
        "outputId": "03ee4192-f43c-4009-f78a-11fc9f444d8a"
      },
      "outputs": [
        {
          "data": {
            "text/plain": [
              "(197, 6)"
            ]
          },
          "execution_count": 7,
          "metadata": {},
          "output_type": "execute_result"
        }
      ],
      "source": [
        "df.shape"
      ]
    },
    {
      "cell_type": "code",
      "execution_count": 8,
      "metadata": {
        "colab": {
          "base_uri": "https://localhost:8080/"
        },
        "id": "TFsaUzTAR8wm",
        "outputId": "8fb2fcef-e28d-4377-e7fd-129be1e358b4"
      },
      "outputs": [
        {
          "name": "stdout",
          "output_type": "stream",
          "text": [
            "['HIGH' 'LOW' 'NORMAL']\n"
          ]
        }
      ],
      "source": [
        "unique_values_bp = df['BP'].unique()\n",
        "\n",
        "print(unique_values_bp)"
      ]
    },
    {
      "cell_type": "code",
      "execution_count": 9,
      "metadata": {
        "colab": {
          "base_uri": "https://localhost:8080/"
        },
        "id": "j9YRTeuxR8K4",
        "outputId": "b46d7370-9959-41c8-80f5-95ed3d8893f2"
      },
      "outputs": [
        {
          "data": {
            "text/plain": [
              "Age            0\n",
              "Sex            0\n",
              "BP             0\n",
              "Cholesterol    0\n",
              "Na_to_K        0\n",
              "Drug           0\n",
              "dtype: int64"
            ]
          },
          "execution_count": 9,
          "metadata": {},
          "output_type": "execute_result"
        }
      ],
      "source": [
        "df.isnull().sum()"
      ]
    },
    {
      "cell_type": "markdown",
      "metadata": {
        "id": "YOt1ChIXRZso"
      },
      "source": [
        "Since missing values only exist in the \"BP\" column, and there are only three rows with missing values, it is considered that the number of missing values is quite small. Therefore, deleting the rows with missing values is deemed to be a safe approach."
      ]
    },
    {
      "cell_type": "markdown",
      "metadata": {
        "id": "ULgUVQ3uKG4s"
      },
      "source": [
        "# 3. Perform z-score normalization of the values in the attribute “Na_to_K”. Show the mean and variance of the normalized values."
      ]
    },
    {
      "cell_type": "code",
      "execution_count": 10,
      "metadata": {
        "colab": {
          "base_uri": "https://localhost:8080/"
        },
        "id": "wjyYvwDQTXF3",
        "outputId": "76d0cb4c-c61a-4945-b3e7-ec5ef2653bb3"
      },
      "outputs": [
        {
          "name": "stdout",
          "output_type": "stream",
          "text": [
            "     Na_to_K  Na_to_K_normalized  Mean_Na_to_K_normalized  \\\n",
            "0     25.355            1.269844            -1.082045e-16   \n",
            "1     13.093           -0.419364            -1.082045e-16   \n",
            "2     10.114           -0.829749            -1.082045e-16   \n",
            "3      7.798           -1.148801            -1.082045e-16   \n",
            "4     18.043            0.262546            -1.082045e-16   \n",
            "..       ...                 ...                      ...   \n",
            "195   11.567           -0.629585            -1.082045e-16   \n",
            "196   12.006           -0.569108            -1.082045e-16   \n",
            "197    9.894           -0.860057            -1.082045e-16   \n",
            "198   14.020           -0.291661            -1.082045e-16   \n",
            "199   11.349           -0.659616            -1.082045e-16   \n",
            "\n",
            "     Variance_Na_to_K_normalized  \n",
            "0                            1.0  \n",
            "1                            1.0  \n",
            "2                            1.0  \n",
            "3                            1.0  \n",
            "4                            1.0  \n",
            "..                           ...  \n",
            "195                          1.0  \n",
            "196                          1.0  \n",
            "197                          1.0  \n",
            "198                          1.0  \n",
            "199                          1.0  \n",
            "\n",
            "[197 rows x 4 columns]\n"
          ]
        }
      ],
      "source": [
        "# Calculate mean and standard deviation\n",
        "mean_value = df['Na_to_K'].mean()\n",
        "std_value = df['Na_to_K'].std()\n",
        "\n",
        "# Perform z-score normalization\n",
        "df['Na_to_K_normalized'] = (df['Na_to_K'] - mean_value) / std_value\n",
        "\n",
        "# Display mean and variance of the normalized values\n",
        "mean_normalized = df['Na_to_K_normalized'].mean()\n",
        "variance_normalized = df['Na_to_K_normalized'].var()\n",
        "\n",
        "# Add mean and variance of normalized values to the DataFrame\n",
        "df['Mean_Na_to_K_normalized'] = mean_normalized\n",
        "df['Variance_Na_to_K_normalized'] = variance_normalized\n",
        "\n",
        "# Display the updated DataFrame with normalized values, mean, and variance\n",
        "print(df[['Na_to_K', 'Na_to_K_normalized', 'Mean_Na_to_K_normalized', 'Variance_Na_to_K_normalized']])\n",
        "\n"
      ]
    },
    {
      "cell_type": "markdown",
      "metadata": {
        "id": "hxj3HAguKG2m"
      },
      "source": [
        "# 4. Create four bins for the attribute “Na_to_K” such that the bins contain (approximately) equivalent numbers of records (samples)."
      ]
    },
    {
      "cell_type": "code",
      "execution_count": 18,
      "metadata": {
        "colab": {
          "base_uri": "https://localhost:8080/"
        },
        "id": "2D1NW4CrUYBU",
        "outputId": "45797836-9110-4ee2-83b6-a0a7277ea33f"
      },
      "outputs": [
        {
          "name": "stdout",
          "output_type": "stream",
          "text": [
            "     Na_to_K  Na_to_K_bins\n",
            "0     25.355             3\n",
            "1     13.093             1\n",
            "2     10.114             0\n",
            "3      7.798             0\n",
            "4     18.043             2\n",
            "..       ...           ...\n",
            "195   11.567             1\n",
            "196   12.006             1\n",
            "197    9.894             0\n",
            "198   14.020             2\n",
            "199   11.349             1\n",
            "\n",
            "[197 rows x 2 columns]\n",
            "Number of values in each bin:\n",
            "0    50\n",
            "3    49\n",
            "1    49\n",
            "2    49\n",
            "Name: Na_to_K_bins, dtype: int64\n"
          ]
        }
      ],
      "source": [
        "# Create 4 bins with approximately equal numbers of records\n",
        "df['Na_to_K_bins'] = pd.qcut(df['Na_to_K'], q=4, labels=False)\n",
        "                          #labels=['Low', 'Medium-Low', 'Medium-High', 'High']\n",
        "\n",
        "# Display the DataFrame with bins\n",
        "print(df[['Na_to_K', 'Na_to_K_bins']])\n",
        "\n",
        "# Count the number of values in each bin\n",
        "bin_counts = df['Na_to_K_bins'].value_counts()\n",
        "\n",
        "# Check if each bins contain equivalent number of records.\n",
        "print(\"Number of values in each bin:\")\n",
        "print(bin_counts)"
      ]
    },
    {
      "cell_type": "markdown",
      "metadata": {
        "id": "DVVlgPfof3Ba"
      },
      "source": [
        "If data would be used for modelling, categorical values must be converted into numerical value. Therefore, I initially set `labels=False`, but if labels should be defined as such a word, it would be `labels=['Low', 'Medium-Low', 'Medium-High', 'High']`\n",
        "\n"
      ]
    },
    {
      "cell_type": "markdown",
      "metadata": {
        "id": "aTSp99b5KG02"
      },
      "source": [
        "# 5. Apply one-hot-encoding to the attribute “Cholesterol”."
      ]
    },
    {
      "cell_type": "code",
      "execution_count": 14,
      "metadata": {
        "colab": {
          "base_uri": "https://localhost:8080/"
        },
        "id": "fcNVKFz_Uta3",
        "outputId": "ad234134-5fed-44ab-8ba8-77e556a04b12"
      },
      "outputs": [
        {
          "name": "stdout",
          "output_type": "stream",
          "text": [
            "One-hot encoding applied to Cholesterol:\n",
            "     Age Sex      BP  Na_to_K   Drug  Na_to_K_normalized  \\\n",
            "0     23   F    HIGH   25.355  DrugY            1.269844   \n",
            "1     47   M     LOW   13.093  drugC           -0.419364   \n",
            "2     47   M     LOW   10.114  drugC           -0.829749   \n",
            "3     28   F  NORMAL    7.798  drugX           -1.148801   \n",
            "4     61   F     LOW   18.043  DrugY            0.262546   \n",
            "..   ...  ..     ...      ...    ...                 ...   \n",
            "195   56   F     LOW   11.567  drugC           -0.629585   \n",
            "196   16   M     LOW   12.006  drugC           -0.569108   \n",
            "197   52   M  NORMAL    9.894  drugX           -0.860057   \n",
            "198   23   M  NORMAL   14.020  drugX           -0.291661   \n",
            "199   40   F     LOW   11.349  drugX           -0.659616   \n",
            "\n",
            "     Mean_Na_to_K_normalized  Variance_Na_to_K_normalized Na_to_K_bins  \\\n",
            "0              -1.082045e-16                          1.0         High   \n",
            "1              -1.082045e-16                          1.0   Medium-Low   \n",
            "2              -1.082045e-16                          1.0          Low   \n",
            "3              -1.082045e-16                          1.0          Low   \n",
            "4              -1.082045e-16                          1.0  Medium-High   \n",
            "..                       ...                          ...          ...   \n",
            "195            -1.082045e-16                          1.0   Medium-Low   \n",
            "196            -1.082045e-16                          1.0   Medium-Low   \n",
            "197            -1.082045e-16                          1.0          Low   \n",
            "198            -1.082045e-16                          1.0  Medium-High   \n",
            "199            -1.082045e-16                          1.0   Medium-Low   \n",
            "\n",
            "     Cholesterol_HIGH  Cholesterol_NORMAL  \n",
            "0                   1                   0  \n",
            "1                   1                   0  \n",
            "2                   1                   0  \n",
            "3                   1                   0  \n",
            "4                   1                   0  \n",
            "..                ...                 ...  \n",
            "195                 1                   0  \n",
            "196                 1                   0  \n",
            "197                 1                   0  \n",
            "198                 0                   1  \n",
            "199                 0                   1  \n",
            "\n",
            "[197 rows x 11 columns]\n"
          ]
        }
      ],
      "source": [
        "# Apply one-hot encoding to the 'Cholesterol' column\n",
        "df = pd.get_dummies(df, columns=['Cholesterol'], prefix='Cholesterol')\n",
        "\n",
        "# Display the DataFrame with one-hot encoded values\n",
        "print(\"One-hot encoding applied to Cholesterol:\")\n",
        "print(df)"
      ]
    },
    {
      "cell_type": "markdown",
      "metadata": {
        "id": "HS9bA_S9KGyt"
      },
      "source": [
        "# 6. Define at least one new attribute based on existing attribute, and explain your reason behind your definition."
      ]
    },
    {
      "cell_type": "code",
      "execution_count": 15,
      "metadata": {
        "colab": {
          "base_uri": "https://localhost:8080/"
        },
        "id": "ka-acahliU5X",
        "outputId": "45236eb6-039f-4c2a-a1d8-5010d259ed58"
      },
      "outputs": [
        {
          "name": "stdout",
          "output_type": "stream",
          "text": [
            "     Age Sex      BP  Na_to_K   Drug  Na_to_K_normalized  \\\n",
            "0     23   F    HIGH   25.355  DrugY            1.269844   \n",
            "1     47   M     LOW   13.093  drugC           -0.419364   \n",
            "2     47   M     LOW   10.114  drugC           -0.829749   \n",
            "3     28   F  NORMAL    7.798  drugX           -1.148801   \n",
            "4     61   F     LOW   18.043  DrugY            0.262546   \n",
            "..   ...  ..     ...      ...    ...                 ...   \n",
            "195   56   F     LOW   11.567  drugC           -0.629585   \n",
            "196   16   M     LOW   12.006  drugC           -0.569108   \n",
            "197   52   M  NORMAL    9.894  drugX           -0.860057   \n",
            "198   23   M  NORMAL   14.020  drugX           -0.291661   \n",
            "199   40   F     LOW   11.349  drugX           -0.659616   \n",
            "\n",
            "     Mean_Na_to_K_normalized  Variance_Na_to_K_normalized Na_to_K_bins  \\\n",
            "0              -1.082045e-16                          1.0         High   \n",
            "1              -1.082045e-16                          1.0   Medium-Low   \n",
            "2              -1.082045e-16                          1.0          Low   \n",
            "3              -1.082045e-16                          1.0          Low   \n",
            "4              -1.082045e-16                          1.0  Medium-High   \n",
            "..                       ...                          ...          ...   \n",
            "195            -1.082045e-16                          1.0   Medium-Low   \n",
            "196            -1.082045e-16                          1.0   Medium-Low   \n",
            "197            -1.082045e-16                          1.0          Low   \n",
            "198            -1.082045e-16                          1.0  Medium-High   \n",
            "199            -1.082045e-16                          1.0   Medium-Low   \n",
            "\n",
            "     Cholesterol_HIGH  Cholesterol_NORMAL          Age_Group  \n",
            "0                   1                   0        Young Adult  \n",
            "1                   1                   0  Middle-aged Adult  \n",
            "2                   1                   0  Middle-aged Adult  \n",
            "3                   1                   0              Adult  \n",
            "4                   1                   0      Elderly Adult  \n",
            "..                ...                 ...                ...  \n",
            "195                 1                   0  Middle-aged Adult  \n",
            "196                 1                   0         Adolescent  \n",
            "197                 1                   0  Middle-aged Adult  \n",
            "198                 0                   1        Young Adult  \n",
            "199                 0                   1              Adult  \n",
            "\n",
            "[197 rows x 12 columns]\n"
          ]
        }
      ],
      "source": [
        "# Define Age_Group\n",
        "def categorize_age(age):\n",
        "    if age <= 12:\n",
        "        return 'Child'\n",
        "    elif age <= 18:\n",
        "        return 'Adolescent'\n",
        "    elif age <= 25:\n",
        "        return 'Young Adult'\n",
        "    elif age <= 40:\n",
        "        return 'Adult'\n",
        "    elif age <= 60:\n",
        "        return 'Middle-aged Adult'\n",
        "    else:\n",
        "        return 'Elderly Adult'\n",
        "\n",
        "# Apply categorization to create Age_Group\n",
        "df['Age_Group'] = df['Age'].apply(categorize_age)\n",
        "\n",
        "# Display the updated DataFrame\n",
        "print(df)\n"
      ]
    },
    {
      "cell_type": "markdown",
      "metadata": {
        "id": "yVh7JAJwKGq6"
      },
      "source": [
        "- Grouping patients into broader age categories simplifies the analysis process, making it easier to identify patterns or trends in the data. It allows for a more straightforward comparison of health outcomes or treatment responses across different age groups.\n",
        "- Healthcare professionals can tailor interventions, treatments, or preventive measures based on age categories. For example, they may implement age-specific screening protocols, vaccination strategies, or lifestyle recommendations."
      ]
    },
    {
      "cell_type": "markdown",
      "metadata": {
        "id": "d5Twal5bmQNn"
      },
      "source": [
        "# Conclusion"
      ]
    },
    {
      "cell_type": "code",
      "execution_count": 19,
      "metadata": {
        "colab": {
          "base_uri": "https://localhost:8080/",
          "height": 275
        },
        "id": "c7p1P8_smBwl",
        "outputId": "5a51df09-71a1-4e48-cef2-f59a9c951043"
      },
      "outputs": [
        {
          "data": {
            "text/html": [
              "\n",
              "  <div id=\"df-2d472fec-bd34-46ec-9949-25fd232878c0\" class=\"colab-df-container\">\n",
              "    <div>\n",
              "<style scoped>\n",
              "    .dataframe tbody tr th:only-of-type {\n",
              "        vertical-align: middle;\n",
              "    }\n",
              "\n",
              "    .dataframe tbody tr th {\n",
              "        vertical-align: top;\n",
              "    }\n",
              "\n",
              "    .dataframe thead th {\n",
              "        text-align: right;\n",
              "    }\n",
              "</style>\n",
              "<table border=\"1\" class=\"dataframe\">\n",
              "  <thead>\n",
              "    <tr style=\"text-align: right;\">\n",
              "      <th></th>\n",
              "      <th>Age</th>\n",
              "      <th>Sex</th>\n",
              "      <th>BP</th>\n",
              "      <th>Na_to_K</th>\n",
              "      <th>Drug</th>\n",
              "      <th>Na_to_K_normalized</th>\n",
              "      <th>Mean_Na_to_K_normalized</th>\n",
              "      <th>Variance_Na_to_K_normalized</th>\n",
              "      <th>Na_to_K_bins</th>\n",
              "      <th>Cholesterol_HIGH</th>\n",
              "      <th>Cholesterol_NORMAL</th>\n",
              "      <th>Age_Group</th>\n",
              "    </tr>\n",
              "  </thead>\n",
              "  <tbody>\n",
              "    <tr>\n",
              "      <th>0</th>\n",
              "      <td>23</td>\n",
              "      <td>F</td>\n",
              "      <td>HIGH</td>\n",
              "      <td>25.355</td>\n",
              "      <td>DrugY</td>\n",
              "      <td>1.269844</td>\n",
              "      <td>-1.082045e-16</td>\n",
              "      <td>1.0</td>\n",
              "      <td>3</td>\n",
              "      <td>1</td>\n",
              "      <td>0</td>\n",
              "      <td>Young Adult</td>\n",
              "    </tr>\n",
              "    <tr>\n",
              "      <th>1</th>\n",
              "      <td>47</td>\n",
              "      <td>M</td>\n",
              "      <td>LOW</td>\n",
              "      <td>13.093</td>\n",
              "      <td>drugC</td>\n",
              "      <td>-0.419364</td>\n",
              "      <td>-1.082045e-16</td>\n",
              "      <td>1.0</td>\n",
              "      <td>1</td>\n",
              "      <td>1</td>\n",
              "      <td>0</td>\n",
              "      <td>Middle-aged Adult</td>\n",
              "    </tr>\n",
              "    <tr>\n",
              "      <th>2</th>\n",
              "      <td>47</td>\n",
              "      <td>M</td>\n",
              "      <td>LOW</td>\n",
              "      <td>10.114</td>\n",
              "      <td>drugC</td>\n",
              "      <td>-0.829749</td>\n",
              "      <td>-1.082045e-16</td>\n",
              "      <td>1.0</td>\n",
              "      <td>0</td>\n",
              "      <td>1</td>\n",
              "      <td>0</td>\n",
              "      <td>Middle-aged Adult</td>\n",
              "    </tr>\n",
              "    <tr>\n",
              "      <th>3</th>\n",
              "      <td>28</td>\n",
              "      <td>F</td>\n",
              "      <td>NORMAL</td>\n",
              "      <td>7.798</td>\n",
              "      <td>drugX</td>\n",
              "      <td>-1.148801</td>\n",
              "      <td>-1.082045e-16</td>\n",
              "      <td>1.0</td>\n",
              "      <td>0</td>\n",
              "      <td>1</td>\n",
              "      <td>0</td>\n",
              "      <td>Adult</td>\n",
              "    </tr>\n",
              "    <tr>\n",
              "      <th>4</th>\n",
              "      <td>61</td>\n",
              "      <td>F</td>\n",
              "      <td>LOW</td>\n",
              "      <td>18.043</td>\n",
              "      <td>DrugY</td>\n",
              "      <td>0.262546</td>\n",
              "      <td>-1.082045e-16</td>\n",
              "      <td>1.0</td>\n",
              "      <td>2</td>\n",
              "      <td>1</td>\n",
              "      <td>0</td>\n",
              "      <td>Elderly Adult</td>\n",
              "    </tr>\n",
              "  </tbody>\n",
              "</table>\n",
              "</div>\n",
              "    <div class=\"colab-df-buttons\">\n",
              "\n",
              "  <div class=\"colab-df-container\">\n",
              "    <button class=\"colab-df-convert\" onclick=\"convertToInteractive('df-2d472fec-bd34-46ec-9949-25fd232878c0')\"\n",
              "            title=\"Convert this dataframe to an interactive table.\"\n",
              "            style=\"display:none;\">\n",
              "\n",
              "  <svg xmlns=\"http://www.w3.org/2000/svg\" height=\"24px\" viewBox=\"0 -960 960 960\">\n",
              "    <path d=\"M120-120v-720h720v720H120Zm60-500h600v-160H180v160Zm220 220h160v-160H400v160Zm0 220h160v-160H400v160ZM180-400h160v-160H180v160Zm440 0h160v-160H620v160ZM180-180h160v-160H180v160Zm440 0h160v-160H620v160Z\"/>\n",
              "  </svg>\n",
              "    </button>\n",
              "\n",
              "  <style>\n",
              "    .colab-df-container {\n",
              "      display:flex;\n",
              "      gap: 12px;\n",
              "    }\n",
              "\n",
              "    .colab-df-convert {\n",
              "      background-color: #E8F0FE;\n",
              "      border: none;\n",
              "      border-radius: 50%;\n",
              "      cursor: pointer;\n",
              "      display: none;\n",
              "      fill: #1967D2;\n",
              "      height: 32px;\n",
              "      padding: 0 0 0 0;\n",
              "      width: 32px;\n",
              "    }\n",
              "\n",
              "    .colab-df-convert:hover {\n",
              "      background-color: #E2EBFA;\n",
              "      box-shadow: 0px 1px 2px rgba(60, 64, 67, 0.3), 0px 1px 3px 1px rgba(60, 64, 67, 0.15);\n",
              "      fill: #174EA6;\n",
              "    }\n",
              "\n",
              "    .colab-df-buttons div {\n",
              "      margin-bottom: 4px;\n",
              "    }\n",
              "\n",
              "    [theme=dark] .colab-df-convert {\n",
              "      background-color: #3B4455;\n",
              "      fill: #D2E3FC;\n",
              "    }\n",
              "\n",
              "    [theme=dark] .colab-df-convert:hover {\n",
              "      background-color: #434B5C;\n",
              "      box-shadow: 0px 1px 3px 1px rgba(0, 0, 0, 0.15);\n",
              "      filter: drop-shadow(0px 1px 2px rgba(0, 0, 0, 0.3));\n",
              "      fill: #FFFFFF;\n",
              "    }\n",
              "  </style>\n",
              "\n",
              "    <script>\n",
              "      const buttonEl =\n",
              "        document.querySelector('#df-2d472fec-bd34-46ec-9949-25fd232878c0 button.colab-df-convert');\n",
              "      buttonEl.style.display =\n",
              "        google.colab.kernel.accessAllowed ? 'block' : 'none';\n",
              "\n",
              "      async function convertToInteractive(key) {\n",
              "        const element = document.querySelector('#df-2d472fec-bd34-46ec-9949-25fd232878c0');\n",
              "        const dataTable =\n",
              "          await google.colab.kernel.invokeFunction('convertToInteractive',\n",
              "                                                    [key], {});\n",
              "        if (!dataTable) return;\n",
              "\n",
              "        const docLinkHtml = 'Like what you see? Visit the ' +\n",
              "          '<a target=\"_blank\" href=https://colab.research.google.com/notebooks/data_table.ipynb>data table notebook</a>'\n",
              "          + ' to learn more about interactive tables.';\n",
              "        element.innerHTML = '';\n",
              "        dataTable['output_type'] = 'display_data';\n",
              "        await google.colab.output.renderOutput(dataTable, element);\n",
              "        const docLink = document.createElement('div');\n",
              "        docLink.innerHTML = docLinkHtml;\n",
              "        element.appendChild(docLink);\n",
              "      }\n",
              "    </script>\n",
              "  </div>\n",
              "\n",
              "\n",
              "<div id=\"df-c50342b9-7c14-4d0f-9ae2-750e8abdd18e\">\n",
              "  <button class=\"colab-df-quickchart\" onclick=\"quickchart('df-c50342b9-7c14-4d0f-9ae2-750e8abdd18e')\"\n",
              "            title=\"Suggest charts\"\n",
              "            style=\"display:none;\">\n",
              "\n",
              "<svg xmlns=\"http://www.w3.org/2000/svg\" height=\"24px\"viewBox=\"0 0 24 24\"\n",
              "     width=\"24px\">\n",
              "    <g>\n",
              "        <path d=\"M19 3H5c-1.1 0-2 .9-2 2v14c0 1.1.9 2 2 2h14c1.1 0 2-.9 2-2V5c0-1.1-.9-2-2-2zM9 17H7v-7h2v7zm4 0h-2V7h2v10zm4 0h-2v-4h2v4z\"/>\n",
              "    </g>\n",
              "</svg>\n",
              "  </button>\n",
              "\n",
              "<style>\n",
              "  .colab-df-quickchart {\n",
              "      --bg-color: #E8F0FE;\n",
              "      --fill-color: #1967D2;\n",
              "      --hover-bg-color: #E2EBFA;\n",
              "      --hover-fill-color: #174EA6;\n",
              "      --disabled-fill-color: #AAA;\n",
              "      --disabled-bg-color: #DDD;\n",
              "  }\n",
              "\n",
              "  [theme=dark] .colab-df-quickchart {\n",
              "      --bg-color: #3B4455;\n",
              "      --fill-color: #D2E3FC;\n",
              "      --hover-bg-color: #434B5C;\n",
              "      --hover-fill-color: #FFFFFF;\n",
              "      --disabled-bg-color: #3B4455;\n",
              "      --disabled-fill-color: #666;\n",
              "  }\n",
              "\n",
              "  .colab-df-quickchart {\n",
              "    background-color: var(--bg-color);\n",
              "    border: none;\n",
              "    border-radius: 50%;\n",
              "    cursor: pointer;\n",
              "    display: none;\n",
              "    fill: var(--fill-color);\n",
              "    height: 32px;\n",
              "    padding: 0;\n",
              "    width: 32px;\n",
              "  }\n",
              "\n",
              "  .colab-df-quickchart:hover {\n",
              "    background-color: var(--hover-bg-color);\n",
              "    box-shadow: 0 1px 2px rgba(60, 64, 67, 0.3), 0 1px 3px 1px rgba(60, 64, 67, 0.15);\n",
              "    fill: var(--button-hover-fill-color);\n",
              "  }\n",
              "\n",
              "  .colab-df-quickchart-complete:disabled,\n",
              "  .colab-df-quickchart-complete:disabled:hover {\n",
              "    background-color: var(--disabled-bg-color);\n",
              "    fill: var(--disabled-fill-color);\n",
              "    box-shadow: none;\n",
              "  }\n",
              "\n",
              "  .colab-df-spinner {\n",
              "    border: 2px solid var(--fill-color);\n",
              "    border-color: transparent;\n",
              "    border-bottom-color: var(--fill-color);\n",
              "    animation:\n",
              "      spin 1s steps(1) infinite;\n",
              "  }\n",
              "\n",
              "  @keyframes spin {\n",
              "    0% {\n",
              "      border-color: transparent;\n",
              "      border-bottom-color: var(--fill-color);\n",
              "      border-left-color: var(--fill-color);\n",
              "    }\n",
              "    20% {\n",
              "      border-color: transparent;\n",
              "      border-left-color: var(--fill-color);\n",
              "      border-top-color: var(--fill-color);\n",
              "    }\n",
              "    30% {\n",
              "      border-color: transparent;\n",
              "      border-left-color: var(--fill-color);\n",
              "      border-top-color: var(--fill-color);\n",
              "      border-right-color: var(--fill-color);\n",
              "    }\n",
              "    40% {\n",
              "      border-color: transparent;\n",
              "      border-right-color: var(--fill-color);\n",
              "      border-top-color: var(--fill-color);\n",
              "    }\n",
              "    60% {\n",
              "      border-color: transparent;\n",
              "      border-right-color: var(--fill-color);\n",
              "    }\n",
              "    80% {\n",
              "      border-color: transparent;\n",
              "      border-right-color: var(--fill-color);\n",
              "      border-bottom-color: var(--fill-color);\n",
              "    }\n",
              "    90% {\n",
              "      border-color: transparent;\n",
              "      border-bottom-color: var(--fill-color);\n",
              "    }\n",
              "  }\n",
              "</style>\n",
              "\n",
              "  <script>\n",
              "    async function quickchart(key) {\n",
              "      const quickchartButtonEl =\n",
              "        document.querySelector('#' + key + ' button');\n",
              "      quickchartButtonEl.disabled = true;  // To prevent multiple clicks.\n",
              "      quickchartButtonEl.classList.add('colab-df-spinner');\n",
              "      try {\n",
              "        const charts = await google.colab.kernel.invokeFunction(\n",
              "            'suggestCharts', [key], {});\n",
              "      } catch (error) {\n",
              "        console.error('Error during call to suggestCharts:', error);\n",
              "      }\n",
              "      quickchartButtonEl.classList.remove('colab-df-spinner');\n",
              "      quickchartButtonEl.classList.add('colab-df-quickchart-complete');\n",
              "    }\n",
              "    (() => {\n",
              "      let quickchartButtonEl =\n",
              "        document.querySelector('#df-c50342b9-7c14-4d0f-9ae2-750e8abdd18e button');\n",
              "      quickchartButtonEl.style.display =\n",
              "        google.colab.kernel.accessAllowed ? 'block' : 'none';\n",
              "    })();\n",
              "  </script>\n",
              "</div>\n",
              "\n",
              "    </div>\n",
              "  </div>\n"
            ],
            "text/plain": [
              "   Age Sex      BP  Na_to_K   Drug  Na_to_K_normalized  \\\n",
              "0   23   F    HIGH   25.355  DrugY            1.269844   \n",
              "1   47   M     LOW   13.093  drugC           -0.419364   \n",
              "2   47   M     LOW   10.114  drugC           -0.829749   \n",
              "3   28   F  NORMAL    7.798  drugX           -1.148801   \n",
              "4   61   F     LOW   18.043  DrugY            0.262546   \n",
              "\n",
              "   Mean_Na_to_K_normalized  Variance_Na_to_K_normalized  Na_to_K_bins  \\\n",
              "0            -1.082045e-16                          1.0             3   \n",
              "1            -1.082045e-16                          1.0             1   \n",
              "2            -1.082045e-16                          1.0             0   \n",
              "3            -1.082045e-16                          1.0             0   \n",
              "4            -1.082045e-16                          1.0             2   \n",
              "\n",
              "   Cholesterol_HIGH  Cholesterol_NORMAL          Age_Group  \n",
              "0                 1                   0        Young Adult  \n",
              "1                 1                   0  Middle-aged Adult  \n",
              "2                 1                   0  Middle-aged Adult  \n",
              "3                 1                   0              Adult  \n",
              "4                 1                   0      Elderly Adult  "
            ]
          },
          "execution_count": 19,
          "metadata": {},
          "output_type": "execute_result"
        }
      ],
      "source": [
        "df.head()"
      ]
    },
    {
      "cell_type": "code",
      "execution_count": 20,
      "metadata": {
        "colab": {
          "base_uri": "https://localhost:8080/"
        },
        "id": "w120CmHan_W8",
        "outputId": "aeaa9be2-04f8-49de-e691-f98429b3f501"
      },
      "outputs": [
        {
          "data": {
            "text/plain": [
              "(197, 12)"
            ]
          },
          "execution_count": 20,
          "metadata": {},
          "output_type": "execute_result"
        }
      ],
      "source": [
        "df.shape"
      ]
    },
    {
      "cell_type": "code",
      "execution_count": 21,
      "metadata": {
        "colab": {
          "base_uri": "https://localhost:8080/"
        },
        "id": "LnIEFTBkmDsi",
        "outputId": "4b10dbd2-4699-4670-c9f7-67fb1cb539c6"
      },
      "outputs": [
        {
          "name": "stdout",
          "output_type": "stream",
          "text": [
            "<class 'pandas.core.frame.DataFrame'>\n",
            "Int64Index: 197 entries, 0 to 199\n",
            "Data columns (total 12 columns):\n",
            " #   Column                       Non-Null Count  Dtype  \n",
            "---  ------                       --------------  -----  \n",
            " 0   Age                          197 non-null    int64  \n",
            " 1   Sex                          197 non-null    object \n",
            " 2   BP                           197 non-null    object \n",
            " 3   Na_to_K                      197 non-null    float64\n",
            " 4   Drug                         197 non-null    object \n",
            " 5   Na_to_K_normalized           197 non-null    float64\n",
            " 6   Mean_Na_to_K_normalized      197 non-null    float64\n",
            " 7   Variance_Na_to_K_normalized  197 non-null    float64\n",
            " 8   Na_to_K_bins                 197 non-null    int64  \n",
            " 9   Cholesterol_HIGH             197 non-null    uint8  \n",
            " 10  Cholesterol_NORMAL           197 non-null    uint8  \n",
            " 11  Age_Group                    197 non-null    object \n",
            "dtypes: float64(4), int64(2), object(4), uint8(2)\n",
            "memory usage: 17.3+ KB\n"
          ]
        }
      ],
      "source": [
        "df.info()"
      ]
    },
    {
      "cell_type": "markdown",
      "metadata": {
        "id": "fQBbJBwEmSeK"
      },
      "source": [
        "Initially, there were only six columns in the dataset. However, after completing requirements (2) to (5), the number of columns increased to twelve. It is expected that each of the newly added columns will provide useful values to better analyze the data."
      ]
    }
  ],
  "metadata": {
    "colab": {
      "provenance": []
    },
    "kernelspec": {
      "display_name": "Python 3",
      "name": "python3"
    },
    "language_info": {
      "name": "python"
    }
  },
  "nbformat": 4,
  "nbformat_minor": 0
}
