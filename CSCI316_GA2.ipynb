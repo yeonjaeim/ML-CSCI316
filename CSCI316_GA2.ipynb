{
 "cells": [
  {
   "cell_type": "markdown",
   "metadata": {},
   "source": [
    "# CSCI 316 - Group Assignment 2"
   ]
  },
  {
   "cell_type": "markdown",
   "metadata": {},
   "source": [
    "# *Main Features of Pyspark\n",
    "### • Transformers– functions that convert raw data in some way. \n",
    "### • Estimators– if provided with data, result in transformers– algorithms that are used to train models\n",
    "### • Evaluators– evaluate how a given model performs according to criteria\n",
    "### • Pipeline– MLlib’s highest-level data type– Transformers, estimators and evaluators are all stages in a pipeline\n",
    "# * We will actively utilize the four features mentioned above to gain a deep understanding of PySpark.\n",
    "# -------------------------------------------------------------------------------------------------------"
   ]
  },
  {
   "cell_type": "markdown",
   "metadata": {},
   "source": [
    "# Note:\n",
    "## when there is 'str object is not callable' error\n",
    "## please add 'from pyspark.sql.functions import col'\n",
    "## sometimes 'col' can't be recognized even though it was imported before"
   ]
  },
  {
   "cell_type": "markdown",
   "metadata": {},
   "source": [
    "# Load the Data"
   ]
  },
  {
   "cell_type": "code",
   "execution_count": 1,
   "metadata": {},
   "outputs": [],
   "source": [
    "from pyspark.sql import SparkSession\n",
    "from pyspark.sql import functions as F\n",
    "from pyspark.sql.functions import *\n",
    "from pyspark.sql.functions import col\n",
    "from pyspark.ml import Transformer\n",
    "\n",
    "from pyspark.sql.types import StringType, DoubleType, IntegerType\n",
    "import pandas as pd\n",
    "from pyspark.sql.window import Window\n",
    "from pyspark.ml.feature import StringIndexer\n",
    "from pyspark.ml import Pipeline\n",
    "from pyspark.ml.feature import VectorAssembler\n",
    "from pyspark.ml.feature import Normalizer\n",
    "from pyspark.ml.feature import StandardScaler\n",
    "\n",
    "from pyspark.ml.tuning import ParamGridBuilder, CrossValidator\n",
    "from pyspark.ml.evaluation import MulticlassClassificationEvaluator\n",
    "from pyspark.ml.classification import LogisticRegression\n",
    "from pyspark.ml.classification import DecisionTreeClassifier\n",
    "from pyspark.ml.classification import RandomForestClassifier\n",
    "from pyspark.ml.regression import LinearRegression\n",
    "from pyspark.ml.evaluation import RegressionEvaluator\n",
    "\n",
    "import seaborn as sns\n",
    "import numpy as np\n",
    "import matplotlib.pyplot as plt\n",
    "\n",
    "# Create SparkSession\n",
    "spark = SparkSession.builder.appName(\"a2\").config(\"spark.sql.execution.pythonUDF.arrow.enabled\", \"false\").getOrCreate()\n",
    "\n",
    "# read file\n",
    "df = spark.read.option(\"header\", \"true\").csv(\"train.csv\")\n",
    "\n",
    "# exclude ID and Name --> NOT RELATED TO PREDICT CREDIT SCORE IN COMMON SENSE\n",
    "selected_columns = [col_name for col_name in df.columns if col_name not in [\"ID\", \"Name\"]]\n",
    "df = df.select(selected_columns)"
   ]
  },
  {
   "cell_type": "markdown",
   "metadata": {},
   "source": [
    "### The reason for the worse performance after repartitioning  during the data preprocessing stage, is as follows:\n",
    "\n",
    "### Data Movement Cost: Repartitioning involves physically moving data, incurring additional time and resource consumption. This data movement cost can lead to increased processing time.\n",
    "\n",
    "### Hence, We will not use repartitioning during data pre-processing"
   ]
  },
  {
   "cell_type": "code",
   "execution_count": null,
   "metadata": {},
   "outputs": [],
   "source": [
    "# Repartition\n",
    "#num_partitions = 125\n",
    "#df = df.repartition(num_partitions)"
   ]
  },
  {
   "cell_type": "code",
   "execution_count": 2,
   "metadata": {},
   "outputs": [
    {
     "name": "stdout",
     "output_type": "stream",
     "text": [
      "root\n",
      " |-- Customer_ID: string (nullable = true)\n",
      " |-- Month: string (nullable = true)\n",
      " |-- Age: string (nullable = true)\n",
      " |-- SSN: string (nullable = true)\n",
      " |-- Occupation: string (nullable = true)\n",
      " |-- Annual_Income: string (nullable = true)\n",
      " |-- Monthly_Inhand_Salary: string (nullable = true)\n",
      " |-- Num_Bank_Accounts: string (nullable = true)\n",
      " |-- Num_Credit_Card: string (nullable = true)\n",
      " |-- Interest_Rate: string (nullable = true)\n",
      " |-- Num_of_Loan: string (nullable = true)\n",
      " |-- Type_of_Loan: string (nullable = true)\n",
      " |-- Delay_from_due_date: string (nullable = true)\n",
      " |-- Num_of_Delayed_Payment: string (nullable = true)\n",
      " |-- Changed_Credit_Limit: string (nullable = true)\n",
      " |-- Num_Credit_Inquiries: string (nullable = true)\n",
      " |-- Credit_Mix: string (nullable = true)\n",
      " |-- Outstanding_Debt: string (nullable = true)\n",
      " |-- Credit_Utilization_Ratio: string (nullable = true)\n",
      " |-- Credit_History_Age: string (nullable = true)\n",
      " |-- Payment_of_Min_Amount: string (nullable = true)\n",
      " |-- Total_EMI_per_month: string (nullable = true)\n",
      " |-- Amount_invested_monthly: string (nullable = true)\n",
      " |-- Payment_Behaviour: string (nullable = true)\n",
      " |-- Monthly_Balance: string (nullable = true)\n",
      " |-- Credit_Score: string (nullable = true)\n",
      "\n"
     ]
    }
   ],
   "source": [
    "# datatypes are automatically indicated as string\n",
    "df.printSchema()"
   ]
  },
  {
   "cell_type": "markdown",
   "metadata": {},
   "source": [
    "## Data Labels\n",
    "### The table, as seen above, contains only four numerical columns. Columns are classified into three categories:\n",
    "\n",
    "#### label: the label of the data ('Credit_Score') used for classification;\n",
    "#### categorical_cols: the names of the 7 categorical columns;\n",
    "#### numeric_cols: the remanining columns."
   ]
  },
  {
   "cell_type": "code",
   "execution_count": 3,
   "metadata": {},
   "outputs": [],
   "source": [
    "label = 'Credit_Score'\n",
    "categorical_cols = ['Customer_ID', 'Month', 'SSN', 'Occupation',\n",
    "                    'Credit_Mix', 'Type_of_Loan', 'Payment_of_Min_Amount',\n",
    "                    'Payment_Behaviour']\n",
    "numeric_cols = list(set(df.columns) - set(categorical_cols) -set([label]))"
   ]
  },
  {
   "cell_type": "markdown",
   "metadata": {},
   "source": [
    "### Later, we will complete basic data preprocessing tasks and change the data type of all columns to double for smooth model implementation."
   ]
  },
  {
   "cell_type": "markdown",
   "metadata": {},
   "source": [
    "# Transformer & Pipeline"
   ]
  },
  {
   "cell_type": "code",
   "execution_count": 4,
   "metadata": {},
   "outputs": [],
   "source": [
    "# will used at step 6\n",
    "# This transformer generates predicted values for missing values in specific columns.\n",
    "class MissingValuePredictor(Transformer):\n",
    "    \"\"\"\n",
    "    Transformer to predict missing values in the target variable using a specified model,\n",
    "    and fill the missing values in the DataFrame.\n",
    "    \"\"\"\n",
    "    def __init__(self, target_col, join_cols, model):\n",
    "        \"\"\"\n",
    "        Initializes the MissingValuePredictor with target, input, join columns, and model.\n",
    "        \"\"\"\n",
    "        super(MissingValuePredictor, self).__init__()\n",
    "        self.target_col = target_col\n",
    "        self.join_cols = join_cols\n",
    "        self.model = model\n",
    "        \n",
    "    def _transform(self, df):\n",
    "        \"\"\"\n",
    "        Fits the specified model on non-missing data,\n",
    "        predicts missing values, fills them, and returns the DataFrame.\n",
    "        \"\"\"\n",
    "        # Step 3: Predict missing values\n",
    "        df_missing = df.filter(col(self.target_col).isNull())\n",
    "        df_missing = df_missing.select(self.join_cols)\n",
    "        predictions_missing = self.model.transform(df_missing)\n",
    "\n",
    "        # Step 4: Fill missing values in the original DataFrame\n",
    "        predicted_df = predictions_missing.select(*(self.join_cols + [\"prediction\"]))\n",
    "        df = df.join(predicted_df, on=self.join_cols, how=\"left_outer\")\n",
    "        df = df.withColumn(self.target_col,\n",
    "                           when(col(self.target_col).isNull(), col(\"prediction\"))\n",
    "                           .otherwise(col(self.target_col)))\n",
    "        df = df.drop(\"prediction\")\n",
    "\n",
    "        return df\n",
    "    \n",
    "class SparkDFPipeline:\n",
    "    \"\"\"\n",
    "    This pipeline is classified into three cases based on the parameter 'case'.\n",
    "\n",
    "    case = 1:\n",
    "    Scaling is applied to all columns.\n",
    "\n",
    "    case = 2:\n",
    "    Scaling is applied only to continuous variables.\n",
    "\n",
    "    case = else:\n",
    "    No scaling is applied.\n",
    "    \"\"\"\n",
    "    \n",
    "    \n",
    "    def __init__(self, case=0):\n",
    "        self.case = case\n",
    "    \n",
    "    def fit(self):\n",
    "        return self\n",
    "    \n",
    "    def transform(self, indexed, feature_list, to_remove):\n",
    "        \"\"\"\n",
    "        indexed: dataframe\n",
    "        feature_list: whole features in the dataframe. will be filtered to be the proper independent vars.\n",
    "        to_remove: the list of columns that will be removed from feature_list\n",
    "        \"\"\"\n",
    "        # apply scaling to all the vairables\n",
    "        if self.case == 0:\n",
    "            # Repartition\n",
    "            num_partitions = 500\n",
    "            repartitioned_df = indexed.repartition(num_partitions)\n",
    "\n",
    "            for col in feature_list:\n",
    "                if col in to_remove:\n",
    "                    feature_list.remove(col)\n",
    "\n",
    "            # Vectorize the df\n",
    "            assembler = VectorAssembler(inputCols=feature_list, outputCol='features')\n",
    "            features_vectorized = assembler.transform(repartitioned_df)\n",
    "\n",
    "            # Standardize the df\n",
    "            scaler = StandardScaler(inputCol=\"features\", outputCol=\"scaled_features\", withStd=True, withMean=True)\n",
    "            scaled_data = scaler.fit(features_vectorized)\n",
    "            preprocessed_data = scaled_data.transform(features_vectorized)\n",
    "            \n",
    "\n",
    "        # apply scaling only to continuous variables\n",
    "        elif self.case == 1:\n",
    "            # Resample the df\n",
    "            num_partitions = 500\n",
    "            repartitioned_df = indexed.repartition(num_partitions)\n",
    "            \n",
    "            feature_list = numeric_cols\n",
    "            for col in feature_list:\n",
    "                if col in to_remove:\n",
    "                    feature_list.remove(col)\n",
    "\n",
    "            # Vectorize the df\n",
    "            assembler = VectorAssembler(inputCols=feature_list, outputCol='features')\n",
    "            features_vectorized = assembler.transform(repartitioned_df)\n",
    "\n",
    "            # Standardize the df\n",
    "            scaler = StandardScaler(inputCol=\"features\", outputCol=\"scaled_features\", withStd=True, withMean=True)\n",
    "            scaled_data = scaler.fit(features_vectorized)\n",
    "            preprocessed_data = scaled_data.transform(features_vectorized)\n",
    "\n",
    "            preprocessed_data = preprocessed_data.drop('features')\n",
    "            \n",
    "            # put back the categorical columns\n",
    "            input_cols = []\n",
    "           \n",
    "            for col in indexed.columns:\n",
    "                if '_Index' in col:\n",
    "                    input_cols.append(col)\n",
    "            \n",
    "            assembler1 = VectorAssembler(inputCols=input_cols, outputCol=\"features\")\n",
    "            preprocessed_data = assembler1.transform(preprocessed_data)\n",
    "            \n",
    "            \n",
    "        # No Standardization   \n",
    "        else:\n",
    "            # Normal vectorize df\n",
    "            num_partitions = 500\n",
    "            repartitioned_df = indexed.repartition(num_partitions)\n",
    "            for col in feature_list:\n",
    "                if col in to_remove:\n",
    "                    feature_list.remove(col)\n",
    "            assembler = VectorAssembler(inputCols=feature_list, outputCol='features')\n",
    "            preprocessed_data = assembler.transform(repartitioned_df)\n",
    "\n",
    "\n",
    "        return preprocessed_data"
   ]
  },
  {
   "cell_type": "markdown",
   "metadata": {},
   "source": [
    "# Evaluator"
   ]
  },
  {
   "cell_type": "code",
   "execution_count": 5,
   "metadata": {},
   "outputs": [],
   "source": [
    "# calculate various kind of score for the test set and show the evaluation metrics\n",
    "def evaluate_model(model, test_data):\n",
    "    # Make predictions on the validation data\n",
    "    predictions = model.transform(test_data)\n",
    "\n",
    "    acc_evaluator = MulticlassClassificationEvaluator(labelCol=\"Target\", predictionCol=\"prediction\", metricName=\"accuracy\")\n",
    "    accuracy = acc_evaluator.evaluate(predictions)\n",
    "\n",
    "    f1_evaluator = MulticlassClassificationEvaluator(labelCol=\"Target\", predictionCol=\"prediction\", metricName=\"f1\")\n",
    "    f1_score = f1_evaluator.evaluate(predictions)\n",
    "\n",
    "    precision_evaluator = MulticlassClassificationEvaluator(labelCol=\"Target\", predictionCol=\"prediction\", metricName=\"weightedPrecision\")\n",
    "    precision_score = precision_evaluator.evaluate(predictions)\n",
    "        \n",
    "    recall_evaluator = MulticlassClassificationEvaluator(labelCol=\"Target\", predictionCol=\"prediction\", metricName=\"weightedRecall\")\n",
    "    recall_score = recall_evaluator.evaluate(predictions)\n",
    "\n",
    "    # Create a dictionary of model evaluation metrics\n",
    "    eval_metrics = {\n",
    "        'Accuracy': accuracy\n",
    "        , 'F1 Score': f1_score\n",
    "        , 'Precision': precision_score\n",
    "        , 'Recall': recall_score\n",
    "    }\n",
    "    \n",
    "    return eval_metrics"
   ]
  },
  {
   "cell_type": "markdown",
   "metadata": {},
   "source": [
    "# PRE-PROCESSING\n",
    "### Single Process:\n",
    "### If the code is used only in a single task or specific process, there is no need to create a Transformer.\n",
    "### Duplicate Processes:\n",
    "### Using a Transformer increases code reusability and helps in building pipelines."
   ]
  },
  {
   "cell_type": "markdown",
   "metadata": {},
   "source": [
    "## 1. Text Cleaning"
   ]
  },
  {
   "cell_type": "code",
   "execution_count": 6,
   "metadata": {},
   "outputs": [],
   "source": [
    "# Strip underscore: convert \"_\" to empty string\n",
    "for column in df.columns:\n",
    "    df = df.withColumn(column, regexp_replace(col(column), \"_\", \"\"))\n",
    "\n",
    "# Remove two meaningless string values from the whole data set\n",
    "strings_to_replace = [\"#F%$D@*&8\", \"!@9#%8\"]\n",
    "for column in df.columns:\n",
    "    for string_to_replace in strings_to_replace:\n",
    "        df = df.withColumn(column, regexp_replace(col(column), string_to_replace, \"\"))\n",
    "\n",
    "# Since after done with previous work, we got some empty string values\n",
    "# Hence, we need to convert the empty string to null        \n",
    "for column in df.columns:\n",
    "    df = df.withColumn(column, when(df[column]==\"\", None).otherwise(df[column]))"
   ]
  },
  {
   "cell_type": "markdown",
   "metadata": {},
   "source": [
    "## 2. Credit _History_Age -> Credic_History_Month\n",
    "### : Convert to Numerical Var"
   ]
  },
  {
   "cell_type": "code",
   "execution_count": 7,
   "metadata": {},
   "outputs": [],
   "source": [
    "# Example value of Credit_History_Age: 22 Years and 1 Months\n",
    "# We'll convert the each value to numeric like 22*12 + 1, which means the total months of credit history\n",
    "\n",
    "# Divide the each value of \"Credit_History_Age\" by whitespace\n",
    "split_age = split(df[\"Credit_History_Age\"], ' ')\n",
    "\n",
    "# Transform the initial value to total months\n",
    "total_months = (split_age.getItem(0).cast(\"int\") * 12) + split_age.getItem(3).cast(\"int\")\n",
    "\n",
    "# Add new column \"Credit_History_Month\"\n",
    "df = df.withColumn(\"Credit_History_Month\", when(col(\"Credit_History_Age\").isNotNull(), total_months)\n",
    "                   .otherwise(col(\"Credit_History_Age\").cast(DoubleType())))\n",
    "\n",
    "# Remove 'Credit_History_Age'\n",
    "df = df.drop(\"Credit_History_Age\")"
   ]
  },
  {
   "cell_type": "code",
   "execution_count": 8,
   "metadata": {},
   "outputs": [],
   "source": [
    "# update numeric_cols\n",
    "numeric_cols.remove(\"Credit_History_Age\")\n",
    "numeric_cols.append(\"Credit_History_Month\")"
   ]
  },
  {
   "cell_type": "markdown",
   "metadata": {},
   "source": [
    "## 3. Convert the data type of all the continuous variables to Double\n",
    "### Since before training, all the variables should be double\n",
    "### Later, we'll do the same task for the categorical variables"
   ]
  },
  {
   "cell_type": "code",
   "execution_count": 9,
   "metadata": {},
   "outputs": [],
   "source": [
    "# If there are missing values in the column, the data type cannot be changed.\n",
    "# Therefore, if there are missing values, fill them with an arbitrary value of 100000 and then change the data.\n",
    "# Later, 100000 will be replaced back with missing values.\n",
    "for column in numeric_cols:\n",
    "    df = df.withColumn(column, when(df[column].isNull(), lit(100000)).otherwise(df[column]))\n",
    "\n",
    "# convert all the numeric columns to double\n",
    "for column in numeric_cols:\n",
    "    df = df.withColumn(column, df[column].cast(DoubleType()))\n",
    "    \n",
    "    \n",
    "# Replace 100000 back with missing values\n",
    "for column in numeric_cols:\n",
    "    df = df.withColumn(column, when(df[column] == 100000, None).otherwise(df[column]))"
   ]
  },
  {
   "cell_type": "markdown",
   "metadata": {},
   "source": [
    "## 4. Drop Negative values"
   ]
  },
  {
   "cell_type": "code",
   "execution_count": 10,
   "metadata": {},
   "outputs": [],
   "source": [
    "# alternate negative values to null in the case of columns which cannot be negative.\n",
    "def drop_negative(df, column):\n",
    "    df = df.withColumn(column, when(col(column) < 0, None).otherwise(col(column)))\n",
    "    return df\n",
    "\n",
    "columns_to_drop_negative = [\"Age\", \"Num_Bank_Accounts\", \"Num_of_Loan\", \"Delay_from_due_date\", \"Num_of_Delayed_Payment\",\n",
    "                            \"Monthly_Balance\"]\n",
    "\n",
    "for column in columns_to_drop_negative:\n",
    "    df = drop_negative(df, column)"
   ]
  },
  {
   "cell_type": "markdown",
   "metadata": {},
   "source": [
    "## 5. Remove Outliers"
   ]
  },
  {
   "cell_type": "code",
   "execution_count": 11,
   "metadata": {},
   "outputs": [],
   "source": [
    "# Remove outliers of specific columns\n",
    "columns_to_remove_outliers = ['Age', 'Num_Bank_Accounts', 'Num_Credit_Card', 'Interest_Rate', 'Num_of_Loan',\n",
    "                               'Num_Credit_Inquiries', 'Num_of_Delayed_Payment',\n",
    "                               'Amount_invested_monthly']\n",
    "\n",
    "for column in columns_to_remove_outliers:\n",
    "    # Calculate Q1, Q3, and IQR\n",
    "    quantiles = df.stat.approxQuantile(column, [0.25, 0.75], 0.01)\n",
    "    Q1 = quantiles[0]\n",
    "    Q3 = quantiles[1]\n",
    "    IQR = Q3 - Q1\n",
    "\n",
    "    # Define lower and upper bounds\n",
    "    lower_bound = Q1 - 1.5 * IQR\n",
    "    upper_bound = Q3 + 1.5 * IQR\n",
    "\n",
    "    # Convert outliers to NaN\n",
    "    df = df.withColumn(column, \n",
    "                      when((col(column) < lower_bound) | (col(column) > upper_bound), None).otherwise(col(column)))"
   ]
  },
  {
   "cell_type": "markdown",
   "metadata": {},
   "source": [
    "###  Total_EMI_per_month"
   ]
  },
  {
   "cell_type": "code",
   "execution_count": 12,
   "metadata": {},
   "outputs": [],
   "source": [
    "#Group by Customer_ID and check for cases where the value of Total_EMI_per_month does not duplicate.\n",
    "#If it does not duplicate more than twice, replace it with missing values.\n",
    "\n",
    "window_spec = Window.partitionBy(\"Customer_ID\").orderBy(\"Total_EMI_per_month\")\n",
    "df = df.withColumn(\"count_total_emi\", count(\"Total_EMI_per_month\").over(window_spec))\n",
    "\n",
    "df = df.withColumn(\"Total_EMI_per_month\", \\\n",
    "                   when(col(\"count_total_emi\") <= lit(1), None).otherwise(col(\"Total_EMI_per_month\"))) \\\n",
    "       .drop(\"count_total_emi\")"
   ]
  },
  {
   "cell_type": "markdown",
   "metadata": {},
   "source": [
    "### Annual_Income"
   ]
  },
  {
   "cell_type": "code",
   "execution_count": 13,
   "metadata": {},
   "outputs": [],
   "source": [
    "# Adjust the range of Annual_Income\n",
    "# Removing outliers with IQR deleted some important values.\n",
    "df = df.withColumn(\"Annual_Income\", when(col(\"Annual_Income\") > 180000, None).otherwise(col(\"Annual_Income\")))"
   ]
  },
  {
   "cell_type": "markdown",
   "metadata": {},
   "source": [
    "## 6. Deal with Missing values\n",
    "### - Count Missing Values per Columns"
   ]
  },
  {
   "cell_type": "code",
   "execution_count": 14,
   "metadata": {},
   "outputs": [
    {
     "name": "stdout",
     "output_type": "stream",
     "text": [
      "('Customer_ID', 0, 0.0)\n",
      "('Month', 0, 0.0)\n",
      "('Age', 2781, 0.02781)\n",
      "('SSN', 0, 0.0)\n",
      "('Occupation', 7062, 0.07062)\n",
      "('Annual_Income', 999, 0.00999)\n",
      "('Monthly_Inhand_Salary', 15002, 0.15002)\n",
      "('Num_Bank_Accounts', 1336, 0.01336)\n",
      "('Num_Credit_Card', 2271, 0.02271)\n",
      "('Interest_Rate', 2034, 0.02034)\n",
      "('Num_of_Loan', 4348, 0.04348)\n",
      "('Type_of_Loan', 11408, 0.11408)\n",
      "('Delay_from_due_date', 591, 0.00591)\n",
      "('Num_of_Delayed_Payment', 8382, 0.08382)\n",
      "('Changed_Credit_Limit', 2091, 0.02091)\n",
      "('Num_Credit_Inquiries', 3615, 0.03615)\n",
      "('Credit_Mix', 20195, 0.20195)\n",
      "('Outstanding_Debt', 0, 0.0)\n",
      "('Credit_Utilization_Ratio', 0, 0.0)\n",
      "('Payment_of_Min_Amount', 0, 0.0)\n",
      "('Total_EMI_per_month', 114, 0.00114)\n",
      "('Amount_invested_monthly', 14976, 0.14976)\n",
      "('Payment_Behaviour', 7600, 0.076)\n",
      "('Monthly_Balance', 1209, 0.01209)\n",
      "('Credit_Score', 0, 0.0)\n",
      "('Credit_History_Month', 9030, 0.0903)\n"
     ]
    }
   ],
   "source": [
    "def count_missing_values(df):\n",
    "    \"\"\"\n",
    "    A function to calculate the number and proportion of missing values for each column in the given DataFrame\n",
    "    \"\"\"\n",
    "    result = []\n",
    "    for column in df.columns:\n",
    "        missing_count = df.filter(col(column).isNull()).count()\n",
    "        missing_rate = missing_count / df.count()\n",
    "        result.append((column, missing_count, missing_rate))\n",
    "    \n",
    "    return result\n",
    "\n",
    "# call the function and print the output\n",
    "missing_values_result = count_missing_values(df)\n",
    "for row in missing_values_result:\n",
    "    print(row)"
   ]
  },
  {
   "cell_type": "markdown",
   "metadata": {},
   "source": [
    "### To fill in missing values in the columns, group by Customer_ID and fill the missing values with the mean or the first value of each group. \n",
    "### This is because the dataset contains monthly financial information for each Customer ID."
   ]
  },
  {
   "cell_type": "code",
   "execution_count": 14,
   "metadata": {},
   "outputs": [],
   "source": [
    "# Index Customer_ID \n",
    "# Since the column will be used to predict other columns' values\n",
    "indexer = StringIndexer(inputCol=\"Customer_ID\", outputCol=\"Customer_ID\" + \"Index\")\n",
    "df = indexer.fit(df).transform(df)"
   ]
  },
  {
   "cell_type": "code",
   "execution_count": 15,
   "metadata": {},
   "outputs": [],
   "source": [
    "\"\"\"\n",
    "Case 1: Grouping by Customer_ID based on the column to be predicted.\n",
    "Depending on the type of the column to be predicted (continuous or categorical),\n",
    "the criteria for filling missing values (group mean or first value) varies.\n",
    "\"\"\"\n",
    "\n",
    "def fill_missing_with_mean_or_first(df, column_name):\n",
    "    window_spec = Window().partitionBy(\"Customer_IDIndex\")\n",
    "    return df.withColumn(column_name, when(col(column_name).isNull(),\n",
    "                                           first(column_name, ignorenulls=True).over(window_spec)\n",
    "                                           if column_name in ['Occupation', 'Credit_Mix', 'Payment_Behaviour']\n",
    "                                           else mean(column_name).over(window_spec))\n",
    "                                     .otherwise(col(column_name)))\n",
    "\n",
    "columns_to_fill = ['Age', 'Occupation', 'Annual_Income', 'Monthly_Inhand_Salary', 'Num_Bank_Accounts', 'Num_Credit_Card',\n",
    "                   'Interest_Rate', 'Num_of_Loan', 'Credit_History_Month', 'Num_Credit_Inquiries', 'Credit_Mix',\n",
    "                   'Total_EMI_per_month', 'Payment_Behaviour', 'Num_of_Delayed_Payment', 'Delay_from_due_date',\n",
    "                   'Changed_Credit_Limit']\n",
    "\n",
    "for column in columns_to_fill:\n",
    "    df = fill_missing_with_mean_or_first(df, column)"
   ]
  },
  {
   "cell_type": "code",
   "execution_count": 16,
   "metadata": {},
   "outputs": [],
   "source": [
    "\"\"\"\n",
    "Case 2: Filling Missing values of Type_of_Loan (determined by Customer_ID)\n",
    "When grouping by Customer ID, if all values in that group are missing, unify them as \"Not Specified\".\n",
    "If at least one value exists, fill missing values in that group with the first value of the group.\n",
    "\"\"\"\n",
    "from pyspark.sql.functions import col\n",
    "\n",
    "window_spec = Window().partitionBy(\"Customer_ID\")\n",
    "df = df.withColumn(\"Type_of_Loan\", when(\n",
    "    count(\"Type_of_Loan\").over(window_spec) == 0, \"Not Specified\"\n",
    ").otherwise(\n",
    "    when(col(\"Type_of_Loan\").isNull(), expr(\"first(Type_of_Loan, True)\").over(window_spec))\n",
    "    .otherwise(col(\"Type_of_Loan\"))\n",
    "))"
   ]
  },
  {
   "cell_type": "markdown",
   "metadata": {},
   "source": [
    "### - Filling missing values using Linear Regression model: Monthly_Balance\n",
    "### Check the RMSE and Determine whether the model performance is Ok"
   ]
  },
  {
   "cell_type": "code",
   "execution_count": 17,
   "metadata": {},
   "outputs": [
    {
     "name": "stdout",
     "output_type": "stream",
     "text": [
      "RMSE of : 151.23850172017958\n"
     ]
    }
   ],
   "source": [
    "def train_regression_model(df, feature_cols, target, split_ratio=0.8, seed=100):\n",
    "    # Feature Vector\n",
    "    assembler = VectorAssembler(inputCols=feature_cols, outputCol=\"features\")\n",
    "\n",
    "    lr = LinearRegression(featuresCol=\"features\", labelCol=target)\n",
    "\n",
    "    # Configure Pipeline\n",
    "    pipeline = Pipeline(stages=[assembler, lr])\n",
    "\n",
    "    # Split train and test set\n",
    "    train_data, test_data = df.randomSplit([0.8, 0.2], seed=100)\n",
    "\n",
    "    # train model\n",
    "    model = pipeline.fit(train_data)\n",
    "\n",
    "    # Predict test data set\n",
    "    predictions = model.transform(test_data)\n",
    "\n",
    "    # Evaluate\n",
    "    evaluator = RegressionEvaluator(labelCol=target, predictionCol=\"prediction\", metricName=\"rmse\")\n",
    "    rmse = evaluator.evaluate(predictions)\n",
    "\n",
    "    # returned model will be used for future task (filling missing values)\n",
    "    return model, rmse\n",
    "\n",
    "\n",
    "feature_columns = [\"Customer_IDIndex\", \"Annual_Income\", \"Monthly_Inhand_Salary\"]\n",
    "target_column = \"Monthly_Balance\"\n",
    "# Data set without missing values for target column is needed\n",
    "df_no_missing = df.dropna(subset=[target_column])\n",
    "\n",
    "# train data and print the RMSE out\n",
    "model1, rmse1 = train_regression_model(df_no_missing, feature_columns, target_column)\n",
    "print(\"RMSE of :\", rmse1)"
   ]
  },
  {
   "cell_type": "markdown",
   "metadata": {},
   "source": [
    "Let's examine if the model is acceptable.\n",
    "\n",
    "An RMSE of 151 implies an error of approximately 12 between the predicted and actual values, which seems to be an acceptable level of error.\n",
    "\n",
    "Therefore, we proceed with the missing value handling task using this model."
   ]
  },
  {
   "cell_type": "markdown",
   "metadata": {},
   "source": [
    "### Filling missing values with the model"
   ]
  },
  {
   "cell_type": "code",
   "execution_count": 18,
   "metadata": {},
   "outputs": [],
   "source": [
    "# Define the target variable, input variables, and join columns\n",
    "target_variable = \"Monthly_Balance\"\n",
    "join_columns = [\"Customer_IDIndex\", \"Month\", \"Annual_Income\", \"Monthly_Inhand_Salary\"]\n",
    "\n",
    "\n",
    "# Create an instance of the MissingValuePredictor with the specified model\n",
    "missing_value_predictor = MissingValuePredictor(target_col=target_variable,\n",
    "                                                join_cols=join_columns,\n",
    "                                                model=model1)\n",
    "\n",
    "# Apply the transformation\n",
    "df = missing_value_predictor.transform(df)"
   ]
  },
  {
   "cell_type": "markdown",
   "metadata": {},
   "source": [
    "### - Filling missing values using specific prediction model: Amount_invested_monthly\n",
    "### Check the RMSE and Determine whether the model performance is Ok"
   ]
  },
  {
   "cell_type": "code",
   "execution_count": 19,
   "metadata": {},
   "outputs": [
    {
     "name": "stdout",
     "output_type": "stream",
     "text": [
      "RMSE of : 95.787619699179\n"
     ]
    }
   ],
   "source": [
    "feature_columns = [\"Customer_IDIndex\", \"Annual_Income\", \"Monthly_Inhand_Salary\"]\n",
    "target_column = \"Amount_invested_monthly\"\n",
    "# Data set without missing values for target column is needed\n",
    "df_no_missing = df.dropna(subset=[target_column])\n",
    "\n",
    "# train data and print the RMSE out\n",
    "model2, rmse2 = train_regression_model(df_no_missing, feature_columns, target_column)\n",
    "print(\"RMSE of :\", rmse2)"
   ]
  },
  {
   "cell_type": "markdown",
   "metadata": {},
   "source": [
    "Let's examine if the model is acceptable.\n",
    "\n",
    "An RMSE of 95 implies an error of approximately 9~10 between the predicted and actual values, which seems to be an acceptable level of error.\n",
    "\n",
    "Therefore, we proceed with the missing value handling task using this model."
   ]
  },
  {
   "cell_type": "markdown",
   "metadata": {},
   "source": [
    "### Filling missing values with the model"
   ]
  },
  {
   "cell_type": "code",
   "execution_count": 20,
   "metadata": {},
   "outputs": [],
   "source": [
    "# Define the target variable, input variables, and join columns\n",
    "target_variable = \"Amount_invested_monthly\"\n",
    "join_columns = [\"Customer_IDIndex\", \"Month\", \"Annual_Income\", \"Monthly_Inhand_Salary\"]\n",
    "\n",
    "\n",
    "# Create an instance of the MissingValuePredictor with the specified model\n",
    "missing_value_predictor = MissingValuePredictor(target_col=target_variable,\n",
    "                                                join_cols=join_columns,\n",
    "                                                model=model2)\n",
    "\n",
    "# Apply the transformation\n",
    "df = missing_value_predictor.transform(df)"
   ]
  },
  {
   "cell_type": "markdown",
   "metadata": {},
   "source": [
    "### - After filling all the missing values"
   ]
  },
  {
   "cell_type": "code",
   "execution_count": 21,
   "metadata": {},
   "outputs": [
    {
     "data": {
      "text/plain": [
       "100000"
      ]
     },
     "execution_count": 21,
     "metadata": {},
     "output_type": "execute_result"
    }
   ],
   "source": [
    "# check whether the number of rows is maintained\n",
    "df.count()"
   ]
  },
  {
   "cell_type": "code",
   "execution_count": 27,
   "metadata": {},
   "outputs": [
    {
     "name": "stdout",
     "output_type": "stream",
     "text": [
      "('Customer_IDIndex', 0, 0.0)\n",
      "('Month', 0, 0.0)\n",
      "('Annual_Income', 0, 0.0)\n",
      "('Monthly_Inhand_Salary', 0, 0.0)\n",
      "('Customer_ID', 0, 0.0)\n",
      "('Age', 0, 0.0)\n",
      "('SSN', 0, 0.0)\n",
      "('Occupation', 0, 0.0)\n",
      "('Num_Bank_Accounts', 0, 0.0)\n",
      "('Num_Credit_Card', 0, 0.0)\n",
      "('Interest_Rate', 0, 0.0)\n",
      "('Num_of_Loan', 0, 0.0)\n",
      "('Type_of_Loan', 0, 0.0)\n",
      "('Delay_from_due_date', 0, 0.0)\n",
      "('Num_of_Delayed_Payment', 0, 0.0)\n",
      "('Changed_Credit_Limit', 0, 0.0)\n",
      "('Num_Credit_Inquiries', 0, 0.0)\n",
      "('Credit_Mix', 0, 0.0)\n",
      "('Outstanding_Debt', 0, 0.0)\n",
      "('Credit_Utilization_Ratio', 0, 0.0)\n",
      "('Payment_of_Min_Amount', 0, 0.0)\n",
      "('Total_EMI_per_month', 0, 0.0)\n",
      "('Amount_invested_monthly', 0, 0.0)\n",
      "('Payment_Behaviour', 0, 0.0)\n",
      "('Monthly_Balance', 0, 0.0)\n",
      "('Credit_Score', 0, 0.0)\n",
      "('Credit_History_Month', 0, 0.0)\n"
     ]
    }
   ],
   "source": [
    "# Now, there must not be any missing values\n",
    "\n",
    "missing_values_result = count_missing_values(df)\n",
    "for row in missing_values_result:\n",
    "    print(row)"
   ]
  },
  {
   "cell_type": "markdown",
   "metadata": {},
   "source": [
    "## Encoding: Categorical --> Numeric"
   ]
  },
  {
   "cell_type": "code",
   "execution_count": 22,
   "metadata": {},
   "outputs": [],
   "source": [
    "# Month mapping: Since the column is ordinal\n",
    "month_mapping = {\n",
    "    \"January\": 1,\n",
    "    \"February\": 2,\n",
    "    \"March\": 3,\n",
    "    \"April\": 4,\n",
    "    \"May\": 5,\n",
    "    \"June\": 6,\n",
    "    \"July\": 7,\n",
    "    \"August\": 8,\n",
    "    \"September\": 9,\n",
    "    \"October\": 10,\n",
    "    \"November\": 11,\n",
    "    \"December\": 12    \n",
    "}\n",
    "\n",
    "# Iterate over the month_mapping and update the \"Month\" column in df\n",
    "for month_name, numeric_value in month_mapping.items():\n",
    "    df = df.withColumn(\"Month\", when(df[\"Month\"] == month_name, numeric_value).otherwise(df[\"Month\"]))"
   ]
  },
  {
   "cell_type": "code",
   "execution_count": 23,
   "metadata": {},
   "outputs": [],
   "source": [
    "# update categorical_cols\n",
    "categorical_cols = ['SSN', 'Occupation',\n",
    "                    'Credit_Mix', 'Type_of_Loan', 'Payment_of_Min_Amount',\n",
    "                    'Payment_Behaviour']\n",
    "\n",
    "#Add indexed categorical columns to the original DataFrame df.\n",
    "#The name of the new DataFrame with the applied changes is indexed.\n",
    "\n",
    "indexed = df\n",
    "for col in categorical_cols:\n",
    "    indexer = StringIndexer(inputCol=col, outputCol=col + \"_Index\")\n",
    "    indexed = indexer.fit(indexed).transform(indexed)"
   ]
  },
  {
   "cell_type": "code",
   "execution_count": 24,
   "metadata": {},
   "outputs": [
    {
     "name": "stdout",
     "output_type": "stream",
     "text": [
      "+------+\n",
      "|Target|\n",
      "+------+\n",
      "|   0.0|\n",
      "|   1.0|\n",
      "|   2.0|\n",
      "+------+\n",
      "\n"
     ]
    }
   ],
   "source": [
    "# Target Encoding\n",
    "# Credit_Score --> Target\n",
    "indexer = StringIndexer(inputCol=\"Credit_Score\", outputCol=\"Target\")\n",
    "indexed = indexer.fit(indexed).transform(indexed)\n",
    "indexed.select('Target').distinct().show()"
   ]
  },
  {
   "cell_type": "markdown",
   "metadata": {},
   "source": [
    "# Convert all to double\n",
    "\n",
    "### In PySpark, unlike Scikit-Learn, it is necessary to convert the data type of all variables to Double Type as independent variables before the implementation stage of the model."
   ]
  },
  {
   "cell_type": "code",
   "execution_count": 25,
   "metadata": {},
   "outputs": [],
   "source": [
    "# categorical\n",
    "for col in categorical_cols:\n",
    "    indexed = indexed.withColumn(col, indexed[col].cast(DoubleType()))\n",
    "# Month\n",
    "indexed = indexed.withColumn(\"Month\", indexed[\"Month\"].cast(DoubleType()))\n",
    "# Rename the column\n",
    "indexed = indexed.withColumnRenamed(\"Month\", \"Month_Index\")"
   ]
  },
  {
   "cell_type": "code",
   "execution_count": 26,
   "metadata": {},
   "outputs": [],
   "source": [
    "# remove the columns which are not indexed (original categorical columns)\n",
    "exclude = ['Customer_ID', 'SSN', 'Occupation', 'Credit_Mix', 'Type_of_Loan',\n",
    "                  'Payment_of_Min_Amount','Payment_Behaviour', 'Credit_Score', 'Amount_invested_monthly']\n",
    "\n",
    "selected_cols = [col for col in indexed.columns if col not in exclude]\n",
    "indexed = indexed.select(selected_cols)\n",
    "\n",
    "# update numeric_cols\n",
    "numeric_cols.remove(\"Amount_invested_monthly\")"
   ]
  },
  {
   "cell_type": "code",
   "execution_count": 27,
   "metadata": {},
   "outputs": [
    {
     "name": "stdout",
     "output_type": "stream",
     "text": [
      "root\n",
      " |-- Customer_IDIndex: double (nullable = false)\n",
      " |-- Month_Index: double (nullable = true)\n",
      " |-- Annual_Income: double (nullable = true)\n",
      " |-- Monthly_Inhand_Salary: double (nullable = true)\n",
      " |-- Age: double (nullable = true)\n",
      " |-- Num_Bank_Accounts: double (nullable = true)\n",
      " |-- Num_Credit_Card: double (nullable = true)\n",
      " |-- Interest_Rate: double (nullable = true)\n",
      " |-- Num_of_Loan: double (nullable = true)\n",
      " |-- Delay_from_due_date: double (nullable = true)\n",
      " |-- Num_of_Delayed_Payment: double (nullable = true)\n",
      " |-- Changed_Credit_Limit: double (nullable = true)\n",
      " |-- Num_Credit_Inquiries: double (nullable = true)\n",
      " |-- Outstanding_Debt: double (nullable = true)\n",
      " |-- Credit_Utilization_Ratio: double (nullable = true)\n",
      " |-- Total_EMI_per_month: double (nullable = true)\n",
      " |-- Monthly_Balance: double (nullable = true)\n",
      " |-- Credit_History_Month: double (nullable = true)\n",
      " |-- SSN_Index: double (nullable = false)\n",
      " |-- Occupation_Index: double (nullable = false)\n",
      " |-- Credit_Mix_Index: double (nullable = false)\n",
      " |-- Type_of_Loan_Index: double (nullable = false)\n",
      " |-- Payment_of_Min_Amount_Index: double (nullable = false)\n",
      " |-- Payment_Behaviour_Index: double (nullable = false)\n",
      " |-- Target: double (nullable = false)\n",
      "\n"
     ]
    }
   ],
   "source": [
    "#### check the data types\n",
    "indexed.printSchema()"
   ]
  },
  {
   "cell_type": "markdown",
   "metadata": {},
   "source": [
    "# Visualization"
   ]
  },
  {
   "cell_type": "markdown",
   "metadata": {},
   "source": [
    "## Distribution of classes of label (Credit_Score)"
   ]
  },
  {
   "cell_type": "code",
   "execution_count": 39,
   "metadata": {},
   "outputs": [
    {
     "data": {
      "image/png": "[encoded data removed]",
      "text/plain": [
       "<Figure size 640x480 with 1 Axes>"
      ]
     },
     "metadata": {},
     "output_type": "display_data"
    }
   ],
   "source": [
    "import matplotlib.pyplot as plt\n",
    "import seaborn as sns\n",
    "\n",
    "# count per class\n",
    "counts = indexed.groupBy(\"Target\").count().orderBy(\"Target\").collect()\n",
    "\n",
    "# visualization\n",
    "credit_scores = [row[\"Target\"] for row in counts]\n",
    "counts = [row[\"count\"] for row in counts]\n",
    "\n",
    "plt.bar(credit_scores, counts, color='skyblue')\n",
    "plt.xlabel('Credit Score Class')\n",
    "plt.ylabel('Count')\n",
    "plt.title('Distribution of Credit Scores')\n",
    "plt.show()"
   ]
  },
  {
   "cell_type": "code",
   "execution_count": 29,
   "metadata": {},
   "outputs": [
    {
     "name": "stdout",
     "output_type": "stream",
     "text": [
      "+------+-----+\n",
      "|Target|count|\n",
      "+------+-----+\n",
      "|   0.0|53174|\n",
      "|   1.0|28998|\n",
      "|   2.0|17828|\n",
      "+------+-----+\n",
      "\n"
     ]
    }
   ],
   "source": [
    "indexed.groupBy(\"Target\").count().show()"
   ]
  },
  {
   "cell_type": "markdown",
   "metadata": {},
   "source": [
    "### From the visualization and table above, it can be observed that the classes of the target variable (\"Credit_Score\") are imbalanced. Such imbalance can lead to reduced accuracy in model implementation."
   ]
  },
  {
   "cell_type": "markdown",
   "metadata": {},
   "source": [
    "## Data distribution of the rest"
   ]
  },
  {
   "cell_type": "code",
   "execution_count": null,
   "metadata": {},
   "outputs": [],
   "source": [
    "\"\"\"\n",
    "from pylab import rcParams\n",
    "\n",
    "df_pd = df.toPandas()\n",
    "rcParams[\"figure.figsize\"]=(20,22)\n",
    "df.hist()\n",
    "plt.grid()\n",
    "\"\"\"\n",
    "\n",
    "### Please refer to the visualization.ipynb for this code block\n",
    "# toPandas() method doesn't work due to the PySpark version"
   ]
  },
  {
   "cell_type": "markdown",
   "metadata": {},
   "source": [
    "# User-Defined Transformer: Create New Feature"
   ]
  },
  {
   "cell_type": "markdown",
   "metadata": {},
   "source": [
    "### This is a process of creating a new feature.\n",
    "### The new feature is obtained through the ratio of two existing columns.\n",
    "### The following formula is used to generate the feature:\n",
    "### inputCol1 / (inputCol2 + epsilon)\n",
    "## The transformer below includes a parameter that determines whether to apply the new feature to the DataFrame, i.e., it determines if it's a variable to be used in Preciction Model."
   ]
  },
  {
   "cell_type": "code",
   "execution_count": 28,
   "metadata": {},
   "outputs": [],
   "source": [
    "from pyspark.ml import Transformer\n",
    "from pyspark.ml.param.shared import Param, Params\n",
    "from pyspark.sql import DataFrame\n",
    "from pyspark.sql.functions import col\n",
    "\n",
    "\n",
    "# When 'useNewFeature' is True, new feature will be added to the data frame\n",
    "class NewFeatureTransformer(Transformer, Params):\n",
    "    \"\"\"\n",
    "    Transformer to add a new feature to the DataFrame.\n",
    "    \"\"\"\n",
    "    def __init__(self, inputCol1, inputCol2, outputCol, useNewFeature = True):\n",
    "        \"\"\"\n",
    "        Initializes the NewFeatureTransformer with input and output column names\n",
    "        and a flag indicating whether to use the new feature or not.\n",
    "        \"\"\"\n",
    "        super(NewFeatureTransformer, self).__init__()\n",
    "        self.inputCol1 = inputCol1\n",
    "        self.inputCol2 = inputCol2\n",
    "        self.outputCol = outputCol\n",
    "        self.useNewFeature = Param(self, \"useNewFeature\", \"Flag to indicate whether to use the new feature or not\")\n",
    "        self.useNewFeature.default = True\n",
    "        self.setUseNewFeature(useNewFeature)\n",
    "\n",
    "    def setUseNewFeature(self, value: bool):\n",
    "        \"\"\"\n",
    "        Sets the flag indicating whether to use the new feature or not.\n",
    "        \"\"\"\n",
    "        self._paramMap[self.useNewFeature] = value\n",
    "        return self\n",
    "\n",
    "    def getUseNewFeature(self):\n",
    "        \"\"\"\n",
    "        Gets the flag indicating whether to use the new feature or not.\n",
    "        \"\"\"\n",
    "        return self.getOrDefault(self.useNewFeature)\n",
    "\n",
    "    def _transform(self, df) -> DataFrame:\n",
    "        \"\"\"\n",
    "        Adds a new feature to the DataFrame based on the specified input columns,\n",
    "        and returns the DataFrame with or without the new feature based on the flag.\n",
    "        \"\"\"\n",
    "        if self.getUseNewFeature():\n",
    "            epsilon = 1e-4  # To avoid division by zero\n",
    "            # Add a new feature based on the input column\n",
    "            df = df.withColumn(self.outputCol, col(self.inputCol1) / (col(self.inputCol2)+epsilon))\n",
    "        else:\n",
    "            # Drop the output column if not using the new feature\n",
    "            df = df.drop(self.outputCol)\n",
    "        return df"
   ]
  },
  {
   "cell_type": "code",
   "execution_count": 29,
   "metadata": {},
   "outputs": [],
   "source": [
    "# 1st New Feature: Financial_Stability\n",
    "new_feature_transformer = NewFeatureTransformer(inputCol1=\"Monthly_Inhand_Salary\",\n",
    "                                                inputCol2=\"Monthly_Balance\",\n",
    "                                                outputCol=\"Financial_Stability\", useNewFeature=True)\n",
    "indexed = new_feature_transformer.transform(indexed)\n",
    "\n",
    "# 2nd New Feature: Loan_Replacement_Capacity\n",
    "new_feature_transformer = NewFeatureTransformer(inputCol1=\"Total_EMI_per_month\",\n",
    "                                                inputCol2=\"Monthly_Inhand_Salary\",\n",
    "                                                outputCol=\"Loan_Replacement_Capacity\", useNewFeature=True)\n",
    "indexed = new_feature_transformer.transform(indexed)\n",
    "\n",
    "# 3rd New Feature: Income_To_Debt_Ratio\n",
    "new_feature_transformer = NewFeatureTransformer(inputCol1=\"Annual_Income\",\n",
    "                                                inputCol2=\"Outstanding_Debt\",\n",
    "                                                outputCol=\"Income_To_Debt_Ratio\", useNewFeature=True)\n",
    "indexed = new_feature_transformer.transform(indexed)"
   ]
  },
  {
   "cell_type": "markdown",
   "metadata": {},
   "source": [
    "### In this case, we added all the new features to the dataframe 'indexed'.\n",
    "### But we can just select specific features to use among three by adjusting the value of parameter 'useNewFeature'."
   ]
  },
  {
   "cell_type": "code",
   "execution_count": 30,
   "metadata": {},
   "outputs": [
    {
     "name": "stdout",
     "output_type": "stream",
     "text": [
      "root\n",
      " |-- Customer_IDIndex: double (nullable = false)\n",
      " |-- Month_Index: double (nullable = true)\n",
      " |-- Annual_Income: double (nullable = true)\n",
      " |-- Monthly_Inhand_Salary: double (nullable = true)\n",
      " |-- Age: double (nullable = true)\n",
      " |-- Num_Bank_Accounts: double (nullable = true)\n",
      " |-- Num_Credit_Card: double (nullable = true)\n",
      " |-- Interest_Rate: double (nullable = true)\n",
      " |-- Num_of_Loan: double (nullable = true)\n",
      " |-- Delay_from_due_date: double (nullable = true)\n",
      " |-- Num_of_Delayed_Payment: double (nullable = true)\n",
      " |-- Changed_Credit_Limit: double (nullable = true)\n",
      " |-- Num_Credit_Inquiries: double (nullable = true)\n",
      " |-- Outstanding_Debt: double (nullable = true)\n",
      " |-- Credit_Utilization_Ratio: double (nullable = true)\n",
      " |-- Total_EMI_per_month: double (nullable = true)\n",
      " |-- Monthly_Balance: double (nullable = true)\n",
      " |-- Credit_History_Month: double (nullable = true)\n",
      " |-- SSN_Index: double (nullable = false)\n",
      " |-- Occupation_Index: double (nullable = false)\n",
      " |-- Credit_Mix_Index: double (nullable = false)\n",
      " |-- Type_of_Loan_Index: double (nullable = false)\n",
      " |-- Payment_of_Min_Amount_Index: double (nullable = false)\n",
      " |-- Payment_Behaviour_Index: double (nullable = false)\n",
      " |-- Target: double (nullable = false)\n",
      " |-- Financial_Stability: double (nullable = true)\n",
      " |-- Loan_Replacement_Capacity: double (nullable = true)\n",
      " |-- Income_To_Debt_Ratio: double (nullable = true)\n",
      "\n"
     ]
    }
   ],
   "source": [
    "# You can see that 3 new features are added to dataframe indexed\n",
    "indexed.printSchema()"
   ]
  },
  {
   "cell_type": "code",
   "execution_count": 33,
   "metadata": {},
   "outputs": [
    {
     "data": {
      "text/plain": [
       "100000"
      ]
     },
     "execution_count": 33,
     "metadata": {},
     "output_type": "execute_result"
    }
   ],
   "source": [
    "indexed.count()"
   ]
  },
  {
   "cell_type": "code",
   "execution_count": 35,
   "metadata": {},
   "outputs": [
    {
     "name": "stdout",
     "output_type": "stream",
     "text": [
      "('Customer_IDIndex', 0, 0.0)\n",
      "('Month_Index', 0, 0.0)\n",
      "('Annual_Income', 0, 0.0)\n",
      "('Monthly_Inhand_Salary', 0, 0.0)\n",
      "('Age', 0, 0.0)\n",
      "('Num_Bank_Accounts', 0, 0.0)\n",
      "('Num_Credit_Card', 0, 0.0)\n",
      "('Interest_Rate', 0, 0.0)\n",
      "('Num_of_Loan', 0, 0.0)\n",
      "('Delay_from_due_date', 0, 0.0)\n",
      "('Num_of_Delayed_Payment', 0, 0.0)\n",
      "('Changed_Credit_Limit', 0, 0.0)\n",
      "('Num_Credit_Inquiries', 0, 0.0)\n",
      "('Outstanding_Debt', 0, 0.0)\n",
      "('Credit_Utilization_Ratio', 0, 0.0)\n",
      "('Total_EMI_per_month', 0, 0.0)\n",
      "('Monthly_Balance', 0, 0.0)\n",
      "('Credit_History_Month', 0, 0.0)\n",
      "('SSN_Index', 0, 0.0)\n",
      "('Occupation_Index', 0, 0.0)\n",
      "('Credit_Mix_Index', 0, 0.0)\n",
      "('Type_of_Loan_Index', 0, 0.0)\n",
      "('Payment_of_Min_Amount_Index', 0, 0.0)\n",
      "('Payment_Behaviour_Index', 0, 0.0)\n",
      "('Target', 0, 0.0)\n",
      "('Financial_Stability', 0, 0.0)\n",
      "('Loan_Replacement_Capacity', 0, 0.0)\n",
      "('Income_To_Debt_Ratio', 0, 0.0)\n"
     ]
    }
   ],
   "source": [
    "# check the missing values after adding new features\n",
    "missing_values_result = count_missing_values(indexed)\n",
    "for row in missing_values_result:\n",
    "    print(row)"
   ]
  },
  {
   "cell_type": "code",
   "execution_count": 31,
   "metadata": {},
   "outputs": [],
   "source": [
    "# update numeric_cols\n",
    "numeric_cols.append(\"Financial_Stability\")\n",
    "numeric_cols.append(\"Loan_Replacement_Capacity\")\n",
    "numeric_cols.append(\"Income_To_Debt_Ratio\")"
   ]
  },
  {
   "cell_type": "markdown",
   "metadata": {},
   "source": [
    "# Feature Engineering"
   ]
  },
  {
   "cell_type": "markdown",
   "metadata": {},
   "source": [
    "### Feature engineering was conducted based on the insights of banking professionals and background knowledge.\n",
    "\n",
    "#### Customer_ID\n",
    "#### : The overall dataset consists of monthly financial information for each customer. Since most columns are associated with Customer_ID, it is adopted as an input variable.\n",
    "\n",
    "#### Month\n",
    "#### : The overall dataset consists of monthly financial information for each customer. Therefore, it is adopted as an independent variable.\n",
    "\n",
    "#### Annual_Income\n",
    "#### : Annual_Income is a factor that influences credit rating classification. Therefore, it is adopted as an independent variable.\n",
    "\n",
    "#### Monthly_Inhand_Salary\n",
    "#### : Monthly_Inhand_Salary is a factor that influences credit rating classification. However, since it holds almost identical informational value to Annual_Income, it is excluded from the independent variables.\n",
    "\n",
    "#### SSN\n",
    "#### : SSN includes customer's residency information. In some banks, this information is used in credit rating decisions.\n",
    "\n",
    "#### Occupation\n",
    "#### : Customer's occupation information is a significant factor affecting credit ratings. Therefore, it is adopted as an independent variable.\n",
    "\n",
    "#### Age\n",
    "#### : Age is a factor that influences credit rating classification. Therefore, it is adopted as an independent variable.\n",
    "\n",
    "#### Interest_Rate, Num_of_Loan, Delay_from_due_date, Num_of_Delayed_Payment, Outstanding_Debt\n",
    "#### : These pieces of information are crucial factors in credit rating decisions.\n",
    "\n",
    "#### Additionally, the remaining columns also have an impact on credit rating decisions and thus can be adopted as independent variables.\n",
    "\n",
    "#### Changed_Credit_Limit, Num_Credit_Inquiries, Credit_Utilization_Ratio, Total_EMI_per_month, Monthly_Balance,  Credit_History_Month, Credit_Mix, Type_of_Loan, Payment_of_Min_Amount, Payment_Behaviour\n",
    "\n",
    "### In conclusion, except for ID and Name, most columns have been selected as independent variables for predicting Credit_Score. Concerns about overfitting due to the curse of dimensionality will be addressed by comparing the accuracy difference between training and test sets after executing the actual model. Consideration of the relationship between independent variables has generally been excluded as multicollinearity has minimal impact in classification problems.\n"
   ]
  },
  {
   "cell_type": "markdown",
   "metadata": {},
   "source": [
    "# Pipeline: Scale + Feature Engineering + Repartitioning\n",
    "### Repartitioning in PySpark refers to the process of splitting data into multiple partitions. Each partition enables parallel processing in a distributed environment. Repartitioning is particularly important when dealing with large-scale datasets as each partition can be processed independently in a distributed environment, thereby improving processing speed. Additionally, adjusting the number of partitions allows for optimization of cluster resource utilization."
   ]
  },
  {
   "cell_type": "code",
   "execution_count": 32,
   "metadata": {},
   "outputs": [],
   "source": [
    "# Feature Engineering\n",
    "# We can modify the list 'to_remove' as the task of Feature Engineering\n",
    "feature_list = indexed.columns\n",
    "to_remove = ['Monthly_Inhand_Salary', 'Target']\n",
    "\n",
    "# SparkDFPipleline is defined at the beginning\n",
    "pipeline = SparkDFPipeline(case=0)\n",
    "preprocessed_data  = pipeline.transform(indexed, feature_list, to_remove)"
   ]
  },
  {
   "cell_type": "markdown",
   "metadata": {},
   "source": [
    "# Stratified Sampling (8:2)"
   ]
  },
  {
   "cell_type": "code",
   "execution_count": 33,
   "metadata": {},
   "outputs": [],
   "source": [
    "# Calculate fractions for each stratum\n",
    "fractions = preprocessed_data.groupBy('Target').count().withColumn('fraction',\n",
    "                                                                   F.lit(0.8)).select('Target', 'fraction').collect()\n",
    "\n",
    "# Convert the result to a dictionary\n",
    "fractions_dict = {row['Target']: row['fraction'] for row in fractions}\n",
    "\n",
    "# Perform stratified sampling using sampleBy\n",
    "df_train = preprocessed_data.sampleBy('Target', fractions_dict, seed=100)\n",
    "df_test = preprocessed_data.subtract(df_train)"
   ]
  },
  {
   "cell_type": "markdown",
   "metadata": {},
   "source": [
    "# Model Implementation\n",
    "# : Random Forest, Decision Tree, Logistic Regression(Multinomial)\n"
   ]
  },
  {
   "cell_type": "markdown",
   "metadata": {},
   "source": [
    "## Random Forest"
   ]
  },
  {
   "cell_type": "markdown",
   "metadata": {},
   "source": [
    "### Default Model"
   ]
  },
  {
   "cell_type": "code",
   "execution_count": 34,
   "metadata": {},
   "outputs": [
    {
     "name": "stdout",
     "output_type": "stream",
     "text": [
      "training accuracy: 0.6662706204584964\n",
      "test accuracy: 0.6700593723494487\n"
     ]
    }
   ],
   "source": [
    "# Train a RandomForest model.\n",
    "rf = RandomForestClassifier(labelCol=\"Target\", featuresCol=\"scaled_features\", numTrees=10)\n",
    "rf_model = rf.fit(df_train)\n",
    "prediction = rf_model.transform(df_train)\n",
    "\n",
    "Eval = MulticlassClassificationEvaluator().setMetricName(\"accuracy\") .setPredictionCol(\"prediction\").setLabelCol(\"Target\")\n",
    "print(f'training accuracy: {Eval.evaluate(prediction)}')\n",
    "\n",
    "prediction_test = rf_model.transform(df_test)\n",
    "Eval = MulticlassClassificationEvaluator().setMetricName(\"accuracy\") .setPredictionCol(\"prediction\").setLabelCol(\"Target\")\n",
    "print(f'test accuracy: {Eval.evaluate(prediction_test)}')"
   ]
  },
  {
   "cell_type": "code",
   "execution_count": null,
   "metadata": {},
   "outputs": [],
   "source": [
    "# Train a RandomForest model.\n",
    "rf = RandomForestClassifier(labelCol=\"Target\", featuresCol=\"scaled_features\", numTrees=10)\n",
    "rf_model = rf.fit(df_train)\n",
    "\n",
    "evaluation_results_RF = evaluate_model(rf_model, df_test)\n",
    "\n",
    "print(\"Evaluation Results:\")\n",
    "print(f\"{'Metric':<20}{'RF Model':<20}\")\n",
    "print(\"=\" * 60)\n",
    "\n",
    "for metric in evaluation_results_RF.keys():\n",
    "    default_value = evaluation_results_RF[metric]\n",
    "    print(f\"{metric:<20}{default_value:<20.6f}\")"
   ]
  },
  {
   "cell_type": "markdown",
   "metadata": {},
   "source": [
    "### Fine Tunning (Hyper parameter tunning)"
   ]
  },
  {
   "cell_type": "code",
   "execution_count": null,
   "metadata": {},
   "outputs": [],
   "source": [
    "# Create a Pipeline with RandomForest as the estimator\n",
    "pipeline = Pipeline(stages=[rf])\n",
    "\n",
    "\n",
    "# Define the parameter grid\n",
    "param_grid = ParamGridBuilder() \\\n",
    "            .addGrid(rf.numTrees, [10, 20, 30]) \\\n",
    "            .addGrid(rf.maxDepth, [5, 6, 8, 10]) \\\n",
    "            .\n",
    "            .build()\n",
    "\n",
    "# Define the cross-validator\n",
    "crossval = CrossValidator(estimator=pipeline,\n",
    "                          estimatorParamMaps=param_grid,\n",
    "                          evaluator=MulticlassClassificationEvaluator(labelCol=\"Target\", predictionCol=\"prediction\", metricName=\"accuracy\"),\n",
    "                          numFolds=5)\n",
    "\n",
    "# Fit the pipeline with cross-validation to find the best model\n",
    "cv_model = crossval.fit(df_train)\n",
    "\n",
    "# Get the best model from cross-validation\n",
    "best_rf_model = cv_model.bestModel\n",
    "\n",
    "# Make predictions on the test set using the best model\n",
    "predictions_test = best_rf_model.transform(df_test)\n",
    "\n",
    "# Evaluate the predictions on the test set\n",
    "test_accuracy = MulticlassClassificationEvaluator(labelCol=\"Target\", predictionCol=\"prediction\", metricName=\"accuracy\").evaluate(predictions_test)\n",
    "print(f\"Test Accuracy: {test_accuracy}\")\n",
    "\n",
    "# Get the best parameters\n",
    "best_numTrees = best_rf_model.getOrDefault('numTrees')\n",
    "best_maxDepth = best_rf_model.getOrDefault('maxDepth')\n",
    "\n",
    "# Print the best parameters\n",
    "print(\"Best numTrees:\", best_numTrees)\n",
    "print(\"Best maxDepth:\", best_maxDepth)"
   ]
  },
  {
   "cell_type": "markdown",
   "metadata": {},
   "source": [
    "### Evaluate"
   ]
  },
  {
   "cell_type": "code",
   "execution_count": null,
   "metadata": {},
   "outputs": [],
   "source": [
    "evaluation_results_RF = evaluate_model(best_rf_model, df_test)\n",
    "\n",
    "print(\"Evaluation Results:\")\n",
    "print(f\"{'Metric':<20}{'RF Model':<20}\")\n",
    "print(\"=\" * 60)\n",
    "\n",
    "for metric in evaluation_results_RF.keys():\n",
    "    default_value = evaluation_results_RF[metric]\n",
    "    print(f\"{metric:<20}{default_value:<20.6f}\")"
   ]
  },
  {
   "cell_type": "markdown",
   "metadata": {},
   "source": [
    "## Decision Tree -------------------------------------------------------------------------------------------"
   ]
  },
  {
   "cell_type": "markdown",
   "metadata": {},
   "source": [
    "### Default Model"
   ]
  },
  {
   "cell_type": "code",
   "execution_count": null,
   "metadata": {},
   "outputs": [],
   "source": [
    "# Define the DecisionTree model\n",
    "dt = DecisionTreeClassifier(labelCol=\"Target\", featuresCol=\"scaled_features\")\n",
    "\n",
    "# Train the DecisionTree model\n",
    "dt_model = dt.fit(df_train)\n",
    "\n",
    "evaluation_results_DT = evaluate_model(dt_model, df_test)\n",
    "\n",
    "print(\"Evaluation Results:\")\n",
    "print(f\"{'Metric':<20}{'DT Model':<20}\")\n",
    "print(\"=\" * 60)\n",
    "\n",
    "for metric in evaluation_results_DT.keys():\n",
    "    default_value = evaluation_results_DT[metric]\n",
    "    print(f\"{metric:<20}{default_value:<20.6f}\")"
   ]
  },
  {
   "cell_type": "markdown",
   "metadata": {},
   "source": [
    "## Important:\n",
    "## We obtained the best parameters through fine-tuning code blocks previously, but after restarting the kernel, the output disappeared. \n",
    "## Since it takes over 3 hours to execute the code block and obtain the output, we proceeded to run the evaluator based on the previously obtained best parameters.\n",
    "### Best maxDepth:  15\n",
    "### Best maxBins:  60\n",
    "### Best minInstancesPerNode:  1\n",
    "### Best minInfoGain:  0.0"
   ]
  },
  {
   "cell_type": "code",
   "execution_count": null,
   "metadata": {},
   "outputs": [],
   "source": [
    "# Define the model with the best parameters\n",
    "best_dt = DecisionTreeClassifier(labelCol=\"Target\", featuresCol=\"scaled_features\",\n",
    "                                 maxDepth=15, maxBins=60, minInstancesPerNode=1, minInfoGain=0.0)\n",
    "evaluation_results_DT = evaluate_model(best_dt, df_test)\n",
    "\n",
    "print(\"Evaluation Results:\")\n",
    "print(f\"{'Metric':<20}{'DT Model':<20}\")\n",
    "print(\"=\" * 60)\n",
    "\n",
    "for metric in evaluation_results_DT.keys():\n",
    "    default_value = evaluation_results_DT[metric]\n",
    "    print(f\"{metric:<20}{default_value:<20.6f}\")"
   ]
  },
  {
   "cell_type": "markdown",
   "metadata": {},
   "source": [
    "### Fine Tunning (Hyper parameter tunning)"
   ]
  },
  {
   "cell_type": "code",
   "execution_count": null,
   "metadata": {},
   "outputs": [],
   "source": [
    "# Create a pipeline with the defined stages\n",
    "pipeline = Pipeline(stages=[dt])\n",
    "\n",
    "# Create a grid of parameters to search over\n",
    "param_grid = ParamGridBuilder() \\\n",
    "    .addGrid(dt.maxDepth, [5, 10, 15, 20]) \\\n",
    "    .addGrid(dt.maxBins, [20, 32, 40, 60, 80]) \\\n",
    "    .addGrid(dt.minInstancesPerNode, [1, 5, 10]) \\\n",
    "    .addGrid(dt.minInfoGain, [0.0, 0.1, 0.2]) \\\n",
    "    .build()\n",
    "\n",
    "# Set up the evaluator for multi-class classification\n",
    "evaluator = MulticlassClassificationEvaluator(labelCol=\"Target\", predictionCol=\"prediction\", metricName=\"accuracy\")\n",
    "\n",
    "# Create a cross-validator\n",
    "cross_validator = CrossValidator(estimator=dt,\n",
    "                                estimatorParamMaps=param_grid,\n",
    "                                evaluator=evaluator,\n",
    "                                numFolds=5)  # You can adjust the number of folds as needed\n",
    "\n",
    "# Fit the cross-validator to the training data\n",
    "cv_model = cross_validator.fit(df_train)\n",
    "\n",
    "# Get the best model from the cross-validation\n",
    "best_dt_model = cv_model.bestModel\n",
    "\n",
    "# Make predictions on the test set using the best model\n",
    "prediction_test_dt = best_dt_model.transform(df_test)\n",
    "\n",
    "# Evaluate the test accuracy using the best model\n",
    "test_accuracy_dt = evaluator.evaluate(prediction_test_dt)\n",
    "print(f'Test accuracy (Decision Tree): {test_accuracy_dt}')\n",
    "\n",
    "# Print the best parameters\n",
    "print(\"Best maxDepth: \", best_dt_model._java_obj.getMaxDepth())\n",
    "print(\"Best maxBins: \", best_dt_model._java_obj.getMaxBins())\n",
    "print(\"Best minInstancesPerNode: \", best_dt_model._java_obj.getMinInstancesPerNode())\n",
    "print(\"Best minInfoGain: \", best_dt_model._java_obj.getMinInfoGain())"
   ]
  },
  {
   "cell_type": "markdown",
   "metadata": {},
   "source": [
    "### Evaluate"
   ]
  },
  {
   "cell_type": "code",
   "execution_count": null,
   "metadata": {},
   "outputs": [],
   "source": [
    "evaluation_results_DT = evaluate_model(best_dt_model, df_test)\n",
    "\n",
    "print(\"Evaluation Results:\")\n",
    "print(f\"{'Metric':<20}{'DT Model':<20}\")\n",
    "print(\"=\" * 60)\n",
    "\n",
    "for metric in evaluation_results_DT.keys():\n",
    "    default_value = evaluation_results_DT[metric]\n",
    "    print(f\"{metric:<20}{default_value:<20.6f}\")"
   ]
  },
  {
   "cell_type": "markdown",
   "metadata": {},
   "source": [
    "# Logistic Regression"
   ]
  },
  {
   "cell_type": "markdown",
   "metadata": {},
   "source": [
    "### Default Model"
   ]
  },
  {
   "cell_type": "code",
   "execution_count": 35,
   "metadata": {},
   "outputs": [
    {
     "name": "stdout",
     "output_type": "stream",
     "text": [
      "Training accuracy (Logistic Regression): 0.6466975999599784\n",
      "Test accuracy (Logistic Regression): 0.6528463802823928\n"
     ]
    }
   ],
   "source": [
    "# Define the Logistic Regression model for multi-class classification\n",
    "lr = LogisticRegression(labelCol=\"Target\", featuresCol=\"scaled_features\", maxIter=10, family=\"multinomial\")\n",
    "\n",
    "# Train the Logistic Regression model\n",
    "lr_model = lr.fit(df_train)\n",
    "\n",
    "# Make predictions on the training set\n",
    "prediction_train_lr = lr_model.transform(df_train)\n",
    "\n",
    "# Evaluate the training accuracy for multi-class classification\n",
    "multiEval_train_lr = MulticlassClassificationEvaluator().setMetricName(\"accuracy\") \\\n",
    "    .setPredictionCol(\"prediction\").setLabelCol(\"Target\")\n",
    "training_accuracy_lr = multiEval_train_lr.evaluate(prediction_train_lr)\n",
    "print(f'Training accuracy (Logistic Regression): {training_accuracy_lr}')\n",
    "\n",
    "# Make predictions on the test set\n",
    "prediction_test_lr = lr_model.transform(df_test)\n",
    "\n",
    "# Evaluate the test accuracy for multi-class classification\n",
    "multiEval_test_lr = MulticlassClassificationEvaluator().setMetricName(\"accuracy\") \\\n",
    "    .setPredictionCol(\"prediction\").setLabelCol(\"Target\")\n",
    "test_accuracy_lr = multiEval_test_lr.evaluate(prediction_test_lr)\n",
    "print(f'Test accuracy (Logistic Regression): {test_accuracy_lr}')"
   ]
  },
  {
   "cell_type": "markdown",
   "metadata": {},
   "source": [
    "### Fine Tunning (Hyper parameter tunning)"
   ]
  },
  {
   "cell_type": "code",
   "execution_count": null,
   "metadata": {},
   "outputs": [],
   "source": [
    "# Create a pipeline with the defined stages\n",
    "pipeline = Pipeline(stages=[lr])\n",
    "\n",
    "# Create a grid of parameters to search over\n",
    "param_grid = ParamGridBuilder() \\\n",
    "    .addGrid(lr.regParam, [0.01, 0.1, 0.5]) \\\n",
    "    .addGrid(lr.maxIter, [10, 100, 1000]) \\\n",
    "    .build()\n",
    "\n",
    "# Set up the evaluator for multi-class classification\n",
    "evaluator = MulticlassClassificationEvaluator(labelCol=\"Target\", predictionCol=\"prediction\", metricName=\"accuracy\")\n",
    "\n",
    "# Create a cross-validator\n",
    "cross_validator = CrossValidator(estimator=pipeline,\n",
    "                                estimatorParamMaps=param_grid,\n",
    "                                evaluator=evaluator,\n",
    "                                numFolds=5)  # You can adjust the number of folds as needed\n",
    "\n",
    "# Fit the cross-validator to the training data\n",
    "cv_model = cross_validator.fit(df_train)\n",
    "\n",
    "# Get the best model from the cross-validation\n",
    "best_lr_model = cv_model.bestModel.stages[0]\n",
    "\n",
    "# Make predictions on the test set using the best model\n",
    "prediction_test_lr = best_lr_model.transform(df_test)\n",
    "\n",
    "# Evaluate the test accuracy using the best model\n",
    "test_accuracy_lr = evaluator.evaluate(prediction_test_lr)\n",
    "print(f'Test accuracy (Logistic Regression): {test_accuracy_lr}')\n",
    "\n",
    "# Print the best parameters\n",
    "print(\"Best regParam: \", best_lr_model.getRegParam())\n",
    "print(\"Best maxIter: \", best_lr_model.getMaxIter())"
   ]
  },
  {
   "cell_type": "markdown",
   "metadata": {},
   "source": [
    "### Evaluate"
   ]
  },
  {
   "cell_type": "code",
   "execution_count": null,
   "metadata": {},
   "outputs": [],
   "source": [
    "evaluation_results_LR = evaluate_model(best_lr_model, df_test)\n",
    "\n",
    "print(\"Evaluation Results:\")\n",
    "print(f\"{'Metric':<20}{'LR Model':<20}\")\n",
    "print(\"=\" * 60)\n",
    "\n",
    "for metric in evaluation_results_LR.keys():\n",
    "    default_value = evaluation_results_LR[metric]\n",
    "    print(f\"{metric:<20}{default_value:<20.6f}\")"
   ]
  },
  {
   "cell_type": "markdown",
   "metadata": {},
   "source": [
    "# ---------------------------------------------Report---------------------------------------------------"
   ]
  },
  {
   "cell_type": "markdown",
   "metadata": {},
   "source": [
    "# Curse of Demiensionality?\n",
    "## It appears that there is no overfitting observed as the accuracy on the test set is slightly higher than that on the training set for all models. This suggests that the curse of dimensionality has been avoided."
   ]
  },
  {
   "cell_type": "markdown",
   "metadata": {},
   "source": [
    "# Comparison among Models\n"
   ]
  },
  {
   "cell_type": "markdown",
   "metadata": {},
   "source": [
    "최종 "
   ]
  },
  {
   "cell_type": "markdown",
   "metadata": {},
   "source": [
    "# Comparison between Spark MLlib and Scikit-Learn (e.g., their pros/cons or similarity/difference). \n"
   ]
  },
  {
   "cell_type": "markdown",
   "metadata": {},
   "source": [
    "### Spark MLlib is designed for big data processing and can efficiently handle large datasets distributed across multiple nodes in a cluster. It leverages the power of distributed computing, making it suitable for parallel processing tasks, which can lead to faster training times. However, setting up and configuring a Spark cluster is complex, especially for users unfamiliar with distributed computing concepts. While Spark MLlib provides a wide range of machine-learning algorithms, it does not offer the same breadth and depth of algorithms as Scikit-Learn, which has been developed for a longer time.\n",
    "\n",
    "### On the other hand, Scikit-Learn has a user-friendly and intuitive API, making it easy for beginners to get started with machine learning tasks. However, its algorithms may consume a significant amount of memory, especially when dealing with large datasets, which can be a limitation for machines with limited resources.\n"
   ]
  },
  {
   "cell_type": "markdown",
   "metadata": {},
   "source": [
    "# Conclusion"
   ]
  },
  {
   "cell_type": "markdown",
   "metadata": {},
   "source": [
    "### SMOTE sampling and the Min-Max scaler applied in the previous assignment are determined to improve model accuracy.But these can't be easily implemented in PySpark. It posed challenges being limited to PySpark and not attempting any conversions from pandas data to PySpark. Without implementing  SMOTE and Min-Max scaler (but used Standard Scaler in this assignment), we got relatively low accuracy.\n",
    "### Even though these challenges, we maximized the use of PySpark by implementing everything solely using it, starting from the preprocessing stage. This ensured that we focused on the main theme of this task, which is maximizing the utilization of PySpark."
   ]
  }
 ],
 "metadata": {
  "kaggle": {
   "accelerator": "none",
   "dataSources": [
    {
     "datasetId": 2289007,
     "sourceId": 3846912,
     "sourceType": "datasetVersion"
    }
   ],
   "dockerImageVersionId": 30635,
   "isGpuEnabled": false,
   "isInternetEnabled": true,
   "language": "python",
   "sourceType": "notebook"
  },
  "kernelspec": {
   "display_name": "Python 3 (ipykernel)",
   "language": "python",
   "name": "python3"
  },
  "language_info": {
   "codemirror_mode": {
    "name": "ipython",
    "version": 3
   },
   "file_extension": ".py",
   "mimetype": "text/x-python",
   "name": "python",
   "nbconvert_exporter": "python",
   "pygments_lexer": "ipython3",
   "version": "3.11.5"
  }
 },
 "nbformat": 4,
 "nbformat_minor": 4
}
